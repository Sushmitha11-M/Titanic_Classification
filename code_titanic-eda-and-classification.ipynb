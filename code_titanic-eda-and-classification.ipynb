{
 "cells": [
  {
   "cell_type": "markdown",
   "metadata": {
    "papermill": {
     "duration": 0.065124,
     "end_time": "2020-12-08T12:36:06.590949",
     "exception": false,
     "start_time": "2020-12-08T12:36:06.525825",
     "status": "completed"
    },
    "tags": []
   },
   "source": [
    "# Titanic EDA and Classification   "
   ]
  },
  {
   "cell_type": "markdown",
   "metadata": {
    "papermill": {
     "duration": 0.062446,
     "end_time": "2020-12-08T12:36:06.716539",
     "exception": false,
     "start_time": "2020-12-08T12:36:06.654093",
     "status": "completed"
    },
    "tags": []
   },
   "source": [
    "<a id='1'></a><br>\n",
    "# Data Load And Check"
   ]
  },
  {
   "cell_type": "code",
   "execution_count": 1,
   "metadata": {
    "_cell_guid": "b1076dfc-b9ad-4769-8c92-a6c4dae69d19",
    "_uuid": "8f2839f25d086af736a60e9eeb907d3b93b6e0e5",
    "execution": {
     "iopub.execute_input": "2020-12-08T12:36:06.857452Z",
     "iopub.status.busy": "2020-12-08T12:36:06.856600Z",
     "iopub.status.idle": "2020-12-08T12:36:08.126500Z",
     "shell.execute_reply": "2020-12-08T12:36:08.125540Z"
    },
    "papermill": {
     "duration": 1.341532,
     "end_time": "2020-12-08T12:36:08.126690",
     "exception": false,
     "start_time": "2020-12-08T12:36:06.785158",
     "status": "completed"
    },
    "tags": []
   },
   "outputs": [],
   "source": [
    "import numpy as np \n",
    "import pandas as pd \n",
    "import matplotlib.pyplot as plt \n",
    "import seaborn as sns  \n",
    "\n",
    "from collections import Counter\n",
    "\n",
    "import warnings\n",
    "warnings.filterwarnings(\"ignore\")\n",
    "\n",
    "\n",
    "from sklearn.preprocessing import OneHotEncoder, LabelEncoder"
   ]
  },
  {
   "cell_type": "code",
   "execution_count": 3,
   "metadata": {
    "execution": {
     "iopub.execute_input": "2020-12-08T12:36:08.269057Z",
     "iopub.status.busy": "2020-12-08T12:36:08.268250Z",
     "iopub.status.idle": "2020-12-08T12:36:08.300542Z",
     "shell.execute_reply": "2020-12-08T12:36:08.301124Z"
    },
    "papermill": {
     "duration": 0.107627,
     "end_time": "2020-12-08T12:36:08.301300",
     "exception": false,
     "start_time": "2020-12-08T12:36:08.193673",
     "status": "completed"
    },
    "tags": []
   },
   "outputs": [
    {
     "data": {
      "text/plain": [
       "Index(['PassengerId', 'Survived', 'Pclass', 'Name', 'Sex', 'Age', 'SibSp',\n",
       "       'Parch', 'Ticket', 'Fare', 'Cabin', 'Embarked'],\n",
       "      dtype='object')"
      ]
     },
     "execution_count": 3,
     "metadata": {},
     "output_type": "execute_result"
    }
   ],
   "source": [
    "train_data = pd.read_csv(\"train.csv\")\n",
    "test_data = pd.read_csv(\"test.csv\")\n",
    "\n",
    "\n",
    "train_data.columns"
   ]
  },
  {
   "cell_type": "code",
   "execution_count": 4,
   "metadata": {
    "execution": {
     "iopub.execute_input": "2020-12-08T12:36:08.454153Z",
     "iopub.status.busy": "2020-12-08T12:36:08.442494Z",
     "iopub.status.idle": "2020-12-08T12:36:08.469862Z",
     "shell.execute_reply": "2020-12-08T12:36:08.469018Z"
    },
    "papermill": {
     "duration": 0.10318,
     "end_time": "2020-12-08T12:36:08.470003",
     "exception": false,
     "start_time": "2020-12-08T12:36:08.366823",
     "status": "completed"
    },
    "tags": []
   },
   "outputs": [
    {
     "data": {
      "text/html": [
       "<div>\n",
       "<style scoped>\n",
       "    .dataframe tbody tr th:only-of-type {\n",
       "        vertical-align: middle;\n",
       "    }\n",
       "\n",
       "    .dataframe tbody tr th {\n",
       "        vertical-align: top;\n",
       "    }\n",
       "\n",
       "    .dataframe thead th {\n",
       "        text-align: right;\n",
       "    }\n",
       "</style>\n",
       "<table border=\"1\" class=\"dataframe\">\n",
       "  <thead>\n",
       "    <tr style=\"text-align: right;\">\n",
       "      <th></th>\n",
       "      <th>PassengerId</th>\n",
       "      <th>Survived</th>\n",
       "      <th>Pclass</th>\n",
       "      <th>Name</th>\n",
       "      <th>Sex</th>\n",
       "      <th>Age</th>\n",
       "      <th>SibSp</th>\n",
       "      <th>Parch</th>\n",
       "      <th>Ticket</th>\n",
       "      <th>Fare</th>\n",
       "      <th>Cabin</th>\n",
       "      <th>Embarked</th>\n",
       "    </tr>\n",
       "  </thead>\n",
       "  <tbody>\n",
       "    <tr>\n",
       "      <th>0</th>\n",
       "      <td>1</td>\n",
       "      <td>0</td>\n",
       "      <td>3</td>\n",
       "      <td>Braund, Mr. Owen Harris</td>\n",
       "      <td>male</td>\n",
       "      <td>22.0</td>\n",
       "      <td>1</td>\n",
       "      <td>0</td>\n",
       "      <td>A/5 21171</td>\n",
       "      <td>7.2500</td>\n",
       "      <td>NaN</td>\n",
       "      <td>S</td>\n",
       "    </tr>\n",
       "    <tr>\n",
       "      <th>1</th>\n",
       "      <td>2</td>\n",
       "      <td>1</td>\n",
       "      <td>1</td>\n",
       "      <td>Cumings, Mrs. John Bradley (Florence Briggs Th...</td>\n",
       "      <td>female</td>\n",
       "      <td>38.0</td>\n",
       "      <td>1</td>\n",
       "      <td>0</td>\n",
       "      <td>PC 17599</td>\n",
       "      <td>71.2833</td>\n",
       "      <td>C85</td>\n",
       "      <td>C</td>\n",
       "    </tr>\n",
       "    <tr>\n",
       "      <th>2</th>\n",
       "      <td>3</td>\n",
       "      <td>1</td>\n",
       "      <td>3</td>\n",
       "      <td>Heikkinen, Miss. Laina</td>\n",
       "      <td>female</td>\n",
       "      <td>26.0</td>\n",
       "      <td>0</td>\n",
       "      <td>0</td>\n",
       "      <td>STON/O2. 3101282</td>\n",
       "      <td>7.9250</td>\n",
       "      <td>NaN</td>\n",
       "      <td>S</td>\n",
       "    </tr>\n",
       "    <tr>\n",
       "      <th>3</th>\n",
       "      <td>4</td>\n",
       "      <td>1</td>\n",
       "      <td>1</td>\n",
       "      <td>Futrelle, Mrs. Jacques Heath (Lily May Peel)</td>\n",
       "      <td>female</td>\n",
       "      <td>35.0</td>\n",
       "      <td>1</td>\n",
       "      <td>0</td>\n",
       "      <td>113803</td>\n",
       "      <td>53.1000</td>\n",
       "      <td>C123</td>\n",
       "      <td>S</td>\n",
       "    </tr>\n",
       "    <tr>\n",
       "      <th>4</th>\n",
       "      <td>5</td>\n",
       "      <td>0</td>\n",
       "      <td>3</td>\n",
       "      <td>Allen, Mr. William Henry</td>\n",
       "      <td>male</td>\n",
       "      <td>35.0</td>\n",
       "      <td>0</td>\n",
       "      <td>0</td>\n",
       "      <td>373450</td>\n",
       "      <td>8.0500</td>\n",
       "      <td>NaN</td>\n",
       "      <td>S</td>\n",
       "    </tr>\n",
       "  </tbody>\n",
       "</table>\n",
       "</div>"
      ],
      "text/plain": [
       "   PassengerId  Survived  Pclass  \\\n",
       "0            1         0       3   \n",
       "1            2         1       1   \n",
       "2            3         1       3   \n",
       "3            4         1       1   \n",
       "4            5         0       3   \n",
       "\n",
       "                                                Name     Sex   Age  SibSp  \\\n",
       "0                            Braund, Mr. Owen Harris    male  22.0      1   \n",
       "1  Cumings, Mrs. John Bradley (Florence Briggs Th...  female  38.0      1   \n",
       "2                             Heikkinen, Miss. Laina  female  26.0      0   \n",
       "3       Futrelle, Mrs. Jacques Heath (Lily May Peel)  female  35.0      1   \n",
       "4                           Allen, Mr. William Henry    male  35.0      0   \n",
       "\n",
       "   Parch            Ticket     Fare Cabin Embarked  \n",
       "0      0         A/5 21171   7.2500   NaN        S  \n",
       "1      0          PC 17599  71.2833   C85        C  \n",
       "2      0  STON/O2. 3101282   7.9250   NaN        S  \n",
       "3      0            113803  53.1000  C123        S  \n",
       "4      0            373450   8.0500   NaN        S  "
      ]
     },
     "execution_count": 4,
     "metadata": {},
     "output_type": "execute_result"
    }
   ],
   "source": [
    "train_data.head()"
   ]
  },
  {
   "cell_type": "code",
   "execution_count": 5,
   "metadata": {
    "execution": {
     "iopub.execute_input": "2020-12-08T12:36:08.619480Z",
     "iopub.status.busy": "2020-12-08T12:36:08.608948Z",
     "iopub.status.idle": "2020-12-08T12:36:08.625493Z",
     "shell.execute_reply": "2020-12-08T12:36:08.624278Z"
    },
    "papermill": {
     "duration": 0.090055,
     "end_time": "2020-12-08T12:36:08.625702",
     "exception": false,
     "start_time": "2020-12-08T12:36:08.535647",
     "status": "completed"
    },
    "tags": []
   },
   "outputs": [
    {
     "name": "stdout",
     "output_type": "stream",
     "text": [
      "<class 'pandas.core.frame.DataFrame'>\n",
      "RangeIndex: 891 entries, 0 to 890\n",
      "Data columns (total 12 columns):\n",
      " #   Column       Non-Null Count  Dtype  \n",
      "---  ------       --------------  -----  \n",
      " 0   PassengerId  891 non-null    int64  \n",
      " 1   Survived     891 non-null    int64  \n",
      " 2   Pclass       891 non-null    int64  \n",
      " 3   Name         891 non-null    object \n",
      " 4   Sex          891 non-null    object \n",
      " 5   Age          714 non-null    float64\n",
      " 6   SibSp        891 non-null    int64  \n",
      " 7   Parch        891 non-null    int64  \n",
      " 8   Ticket       891 non-null    object \n",
      " 9   Fare         891 non-null    float64\n",
      " 10  Cabin        204 non-null    object \n",
      " 11  Embarked     889 non-null    object \n",
      "dtypes: float64(2), int64(5), object(5)\n",
      "memory usage: 83.7+ KB\n"
     ]
    }
   ],
   "source": [
    "train_data.info()"
   ]
  },
  {
   "attachments": {
    "oie_384549KoGQkTap.png": {
     "image/png": "[encoded data removed]"
    }
   },
   "cell_type": "markdown",
   "metadata": {
    "papermill": {
     "duration": 0.081418,
     "end_time": "2020-12-08T12:36:08.778596",
     "exception": false,
     "start_time": "2020-12-08T12:36:08.697178",
     "status": "completed"
    },
    "tags": []
   },
   "source": [
    " <a id='2'></a><br>\n",
    "## 1-Outlier Detection\n",
    "\n",
    "\n",
    "![oie_384549KoGQkTap.png](attachment:oie_384549KoGQkTap.png)\n",
    "\n",
    "* Q1 = 1.Quartile 25%\n",
    "* Q2 = 2.Quartile 50% (median)\n",
    "* Q3 = 3.Quartile 75%\n",
    "* IQR = Q3 - Q1\n",
    "* Outlier data = (Q1 - 1.5 IQR ) U (Q3 + 1.5 IQR)\n",
    "\n"
   ]
  },
  {
   "cell_type": "code",
   "execution_count": 6,
   "metadata": {
    "execution": {
     "iopub.execute_input": "2020-12-08T12:36:08.929196Z",
     "iopub.status.busy": "2020-12-08T12:36:08.928271Z",
     "iopub.status.idle": "2020-12-08T12:36:08.969525Z",
     "shell.execute_reply": "2020-12-08T12:36:08.968801Z"
    },
    "papermill": {
     "duration": 0.12239,
     "end_time": "2020-12-08T12:36:08.969669",
     "exception": false,
     "start_time": "2020-12-08T12:36:08.847279",
     "status": "completed"
    },
    "tags": []
   },
   "outputs": [
    {
     "data": {
      "text/html": [
       "<div>\n",
       "<style scoped>\n",
       "    .dataframe tbody tr th:only-of-type {\n",
       "        vertical-align: middle;\n",
       "    }\n",
       "\n",
       "    .dataframe tbody tr th {\n",
       "        vertical-align: top;\n",
       "    }\n",
       "\n",
       "    .dataframe thead th {\n",
       "        text-align: right;\n",
       "    }\n",
       "</style>\n",
       "<table border=\"1\" class=\"dataframe\">\n",
       "  <thead>\n",
       "    <tr style=\"text-align: right;\">\n",
       "      <th></th>\n",
       "      <th>PassengerId</th>\n",
       "      <th>Survived</th>\n",
       "      <th>Pclass</th>\n",
       "      <th>Age</th>\n",
       "      <th>SibSp</th>\n",
       "      <th>Parch</th>\n",
       "      <th>Fare</th>\n",
       "    </tr>\n",
       "  </thead>\n",
       "  <tbody>\n",
       "    <tr>\n",
       "      <th>count</th>\n",
       "      <td>891.000000</td>\n",
       "      <td>891.000000</td>\n",
       "      <td>891.000000</td>\n",
       "      <td>714.000000</td>\n",
       "      <td>891.000000</td>\n",
       "      <td>891.000000</td>\n",
       "      <td>891.000000</td>\n",
       "    </tr>\n",
       "    <tr>\n",
       "      <th>mean</th>\n",
       "      <td>446.000000</td>\n",
       "      <td>0.383838</td>\n",
       "      <td>2.308642</td>\n",
       "      <td>29.699118</td>\n",
       "      <td>0.523008</td>\n",
       "      <td>0.381594</td>\n",
       "      <td>32.204208</td>\n",
       "    </tr>\n",
       "    <tr>\n",
       "      <th>std</th>\n",
       "      <td>257.353842</td>\n",
       "      <td>0.486592</td>\n",
       "      <td>0.836071</td>\n",
       "      <td>14.526497</td>\n",
       "      <td>1.102743</td>\n",
       "      <td>0.806057</td>\n",
       "      <td>49.693429</td>\n",
       "    </tr>\n",
       "    <tr>\n",
       "      <th>min</th>\n",
       "      <td>1.000000</td>\n",
       "      <td>0.000000</td>\n",
       "      <td>1.000000</td>\n",
       "      <td>0.420000</td>\n",
       "      <td>0.000000</td>\n",
       "      <td>0.000000</td>\n",
       "      <td>0.000000</td>\n",
       "    </tr>\n",
       "    <tr>\n",
       "      <th>25%</th>\n",
       "      <td>223.500000</td>\n",
       "      <td>0.000000</td>\n",
       "      <td>2.000000</td>\n",
       "      <td>20.125000</td>\n",
       "      <td>0.000000</td>\n",
       "      <td>0.000000</td>\n",
       "      <td>7.910400</td>\n",
       "    </tr>\n",
       "    <tr>\n",
       "      <th>50%</th>\n",
       "      <td>446.000000</td>\n",
       "      <td>0.000000</td>\n",
       "      <td>3.000000</td>\n",
       "      <td>28.000000</td>\n",
       "      <td>0.000000</td>\n",
       "      <td>0.000000</td>\n",
       "      <td>14.454200</td>\n",
       "    </tr>\n",
       "    <tr>\n",
       "      <th>75%</th>\n",
       "      <td>668.500000</td>\n",
       "      <td>1.000000</td>\n",
       "      <td>3.000000</td>\n",
       "      <td>38.000000</td>\n",
       "      <td>1.000000</td>\n",
       "      <td>0.000000</td>\n",
       "      <td>31.000000</td>\n",
       "    </tr>\n",
       "    <tr>\n",
       "      <th>max</th>\n",
       "      <td>891.000000</td>\n",
       "      <td>1.000000</td>\n",
       "      <td>3.000000</td>\n",
       "      <td>80.000000</td>\n",
       "      <td>8.000000</td>\n",
       "      <td>6.000000</td>\n",
       "      <td>512.329200</td>\n",
       "    </tr>\n",
       "  </tbody>\n",
       "</table>\n",
       "</div>"
      ],
      "text/plain": [
       "       PassengerId    Survived      Pclass         Age       SibSp  \\\n",
       "count   891.000000  891.000000  891.000000  714.000000  891.000000   \n",
       "mean    446.000000    0.383838    2.308642   29.699118    0.523008   \n",
       "std     257.353842    0.486592    0.836071   14.526497    1.102743   \n",
       "min       1.000000    0.000000    1.000000    0.420000    0.000000   \n",
       "25%     223.500000    0.000000    2.000000   20.125000    0.000000   \n",
       "50%     446.000000    0.000000    3.000000   28.000000    0.000000   \n",
       "75%     668.500000    1.000000    3.000000   38.000000    1.000000   \n",
       "max     891.000000    1.000000    3.000000   80.000000    8.000000   \n",
       "\n",
       "            Parch        Fare  \n",
       "count  891.000000  891.000000  \n",
       "mean     0.381594   32.204208  \n",
       "std      0.806057   49.693429  \n",
       "min      0.000000    0.000000  \n",
       "25%      0.000000    7.910400  \n",
       "50%      0.000000   14.454200  \n",
       "75%      0.000000   31.000000  \n",
       "max      6.000000  512.329200  "
      ]
     },
     "execution_count": 6,
     "metadata": {},
     "output_type": "execute_result"
    }
   ],
   "source": [
    "train_data.describe()"
   ]
  },
  {
   "cell_type": "code",
   "execution_count": 7,
   "metadata": {
    "execution": {
     "iopub.execute_input": "2020-12-08T12:36:09.129314Z",
     "iopub.status.busy": "2020-12-08T12:36:09.127268Z",
     "iopub.status.idle": "2020-12-08T12:36:09.133333Z",
     "shell.execute_reply": "2020-12-08T12:36:09.132705Z"
    },
    "papermill": {
     "duration": 0.083512,
     "end_time": "2020-12-08T12:36:09.133469",
     "exception": false,
     "start_time": "2020-12-08T12:36:09.049957",
     "status": "completed"
    },
    "tags": []
   },
   "outputs": [],
   "source": [
    "def outlier_detect(feature, data):\n",
    "    outlier_index = []\n",
    "\n",
    "    for each in feature:\n",
    "        Q1 = np.percentile(data[each], 25)\n",
    "        Q3 = np.percentile(data[each], 75)\n",
    "        IQR = Q3 - Q1\n",
    "        min_quartile = Q1 - 1.5*IQR\n",
    "        max_quartile = Q3 + 1.5*IQR\n",
    "        outlier_list = data[(data[each] < min_quartile) | (data[each] > max_quartile)].index\n",
    "        outlier_index.extend(outlier_list)\n",
    "        \n",
    "    outlier_index = Counter(outlier_index)\n",
    "    #If there are three or more outlier data features we must delete them. (n)\n",
    "    outlier_data = list(i for i, n in outlier_index.items() if n > 3)\n",
    "    return outlier_data"
   ]
  },
  {
   "cell_type": "code",
   "execution_count": 8,
   "metadata": {
    "execution": {
     "iopub.execute_input": "2020-12-08T12:36:09.281689Z",
     "iopub.status.busy": "2020-12-08T12:36:09.277701Z",
     "iopub.status.idle": "2020-12-08T12:36:09.325852Z",
     "shell.execute_reply": "2020-12-08T12:36:09.325203Z"
    },
    "papermill": {
     "duration": 0.124643,
     "end_time": "2020-12-08T12:36:09.325999",
     "exception": false,
     "start_time": "2020-12-08T12:36:09.201356",
     "status": "completed"
    },
    "tags": []
   },
   "outputs": [
    {
     "data": {
      "text/html": [
       "<div>\n",
       "<style scoped>\n",
       "    .dataframe tbody tr th:only-of-type {\n",
       "        vertical-align: middle;\n",
       "    }\n",
       "\n",
       "    .dataframe tbody tr th {\n",
       "        vertical-align: top;\n",
       "    }\n",
       "\n",
       "    .dataframe thead th {\n",
       "        text-align: right;\n",
       "    }\n",
       "</style>\n",
       "<table border=\"1\" class=\"dataframe\">\n",
       "  <thead>\n",
       "    <tr style=\"text-align: right;\">\n",
       "      <th></th>\n",
       "      <th>PassengerId</th>\n",
       "      <th>Survived</th>\n",
       "      <th>Pclass</th>\n",
       "      <th>Name</th>\n",
       "      <th>Sex</th>\n",
       "      <th>Age</th>\n",
       "      <th>SibSp</th>\n",
       "      <th>Parch</th>\n",
       "      <th>Ticket</th>\n",
       "      <th>Fare</th>\n",
       "      <th>Cabin</th>\n",
       "      <th>Embarked</th>\n",
       "    </tr>\n",
       "  </thead>\n",
       "  <tbody>\n",
       "  </tbody>\n",
       "</table>\n",
       "</div>"
      ],
      "text/plain": [
       "Empty DataFrame\n",
       "Columns: [PassengerId, Survived, Pclass, Name, Sex, Age, SibSp, Parch, Ticket, Fare, Cabin, Embarked]\n",
       "Index: []"
      ]
     },
     "execution_count": 8,
     "metadata": {},
     "output_type": "execute_result"
    }
   ],
   "source": [
    "outlier_data = outlier_detect([\"Age\",\"SibSp\",\"Parch\",\"Fare\"], train_data)\n",
    "train_data.loc[outlier_data]\n"
   ]
  },
  {
   "cell_type": "code",
   "execution_count": 9,
   "metadata": {
    "execution": {
     "iopub.execute_input": "2020-12-08T12:36:09.468826Z",
     "iopub.status.busy": "2020-12-08T12:36:09.467994Z",
     "iopub.status.idle": "2020-12-08T12:36:09.473239Z",
     "shell.execute_reply": "2020-12-08T12:36:09.472578Z"
    },
    "papermill": {
     "duration": 0.079686,
     "end_time": "2020-12-08T12:36:09.473395",
     "exception": false,
     "start_time": "2020-12-08T12:36:09.393709",
     "status": "completed"
    },
    "tags": []
   },
   "outputs": [],
   "source": [
    "train_data = train_data.drop(outlier_data, axis=0).reset_index(drop=True)"
   ]
  },
  {
   "cell_type": "markdown",
   "metadata": {
    "papermill": {
     "duration": 0.067665,
     "end_time": "2020-12-08T12:36:09.608669",
     "exception": false,
     "start_time": "2020-12-08T12:36:09.541004",
     "status": "completed"
    },
    "tags": []
   },
   "source": [
    "<a id='3'></a><br>\n",
    "## 2-Combining Train and Test Data\n",
    "\n",
    "\n",
    "* Train_data and test_data are combined so that data is obtained. \n"
   ]
  },
  {
   "cell_type": "code",
   "execution_count": 10,
   "metadata": {
    "execution": {
     "iopub.execute_input": "2020-12-08T12:36:09.753133Z",
     "iopub.status.busy": "2020-12-08T12:36:09.751973Z",
     "iopub.status.idle": "2020-12-08T12:36:09.768585Z",
     "shell.execute_reply": "2020-12-08T12:36:09.767795Z"
    },
    "papermill": {
     "duration": 0.092266,
     "end_time": "2020-12-08T12:36:09.768740",
     "exception": false,
     "start_time": "2020-12-08T12:36:09.676474",
     "status": "completed"
    },
    "tags": []
   },
   "outputs": [],
   "source": [
    "data = pd.concat([train_data, test_data], axis=0).reset_index(drop=True)"
   ]
  },
  {
   "cell_type": "markdown",
   "metadata": {
    "papermill": {
     "duration": 0.078912,
     "end_time": "2020-12-08T12:36:09.929588",
     "exception": false,
     "start_time": "2020-12-08T12:36:09.850676",
     "status": "completed"
    },
    "tags": []
   },
   "source": [
    "<a id='4'></a><br>\n",
    "## 3-Feature Analysis"
   ]
  },
  {
   "cell_type": "markdown",
   "metadata": {
    "papermill": {
     "duration": 0.069853,
     "end_time": "2020-12-08T12:36:10.069177",
     "exception": false,
     "start_time": "2020-12-08T12:36:09.999324",
     "status": "completed"
    },
    "tags": []
   },
   "source": [
    "### Survived"
   ]
  },
  {
   "cell_type": "code",
   "execution_count": 12,
   "metadata": {
    "execution": {
     "iopub.execute_input": "2020-12-08T12:36:10.219691Z",
     "iopub.status.busy": "2020-12-08T12:36:10.218364Z",
     "iopub.status.idle": "2020-12-08T12:36:10.406947Z",
     "shell.execute_reply": "2020-12-08T12:36:10.407747Z"
    },
    "papermill": {
     "duration": 0.269015,
     "end_time": "2020-12-08T12:36:10.407919",
     "exception": false,
     "start_time": "2020-12-08T12:36:10.138904",
     "status": "completed"
    },
    "tags": []
   },
   "outputs": [
    {
     "data": {
      "text/plain": [
       "<Axes: xlabel='Survived', ylabel='count'>"
      ]
     },
     "execution_count": 12,
     "metadata": {},
     "output_type": "execute_result"
    },
    {
     "data": {
      "image/png": "[encoded data removed]",
      "text/plain": [
       "<Figure size 640x480 with 1 Axes>"
      ]
     },
     "metadata": {},
     "output_type": "display_data"
    }
   ],
   "source": [
    "sns.countplot(x='Survived',data=train_data )\n"
   ]
  },
  {
   "cell_type": "code",
   "execution_count": 13,
   "metadata": {
    "execution": {
     "iopub.execute_input": "2020-12-08T12:36:10.557670Z",
     "iopub.status.busy": "2020-12-08T12:36:10.556709Z",
     "iopub.status.idle": "2020-12-08T12:36:10.591933Z",
     "shell.execute_reply": "2020-12-08T12:36:10.591150Z"
    },
    "papermill": {
     "duration": 0.113399,
     "end_time": "2020-12-08T12:36:10.592086",
     "exception": false,
     "start_time": "2020-12-08T12:36:10.478687",
     "status": "completed"
    },
    "tags": []
   },
   "outputs": [
    {
     "data": {
      "text/html": [
       "<div>\n",
       "<style scoped>\n",
       "    .dataframe tbody tr th:only-of-type {\n",
       "        vertical-align: middle;\n",
       "    }\n",
       "\n",
       "    .dataframe tbody tr th {\n",
       "        vertical-align: top;\n",
       "    }\n",
       "\n",
       "    .dataframe thead th {\n",
       "        text-align: right;\n",
       "    }\n",
       "</style>\n",
       "<table border=\"1\" class=\"dataframe\">\n",
       "  <thead>\n",
       "    <tr style=\"text-align: right;\">\n",
       "      <th></th>\n",
       "      <th>PassengerId</th>\n",
       "      <th>Survived</th>\n",
       "      <th>Pclass</th>\n",
       "      <th>Age</th>\n",
       "      <th>SibSp</th>\n",
       "      <th>Parch</th>\n",
       "      <th>Fare</th>\n",
       "    </tr>\n",
       "  </thead>\n",
       "  <tbody>\n",
       "    <tr>\n",
       "      <th>count</th>\n",
       "      <td>1309.000000</td>\n",
       "      <td>891.000000</td>\n",
       "      <td>1309.000000</td>\n",
       "      <td>1046.000000</td>\n",
       "      <td>1309.000000</td>\n",
       "      <td>1309.000000</td>\n",
       "      <td>1308.000000</td>\n",
       "    </tr>\n",
       "    <tr>\n",
       "      <th>mean</th>\n",
       "      <td>655.000000</td>\n",
       "      <td>0.383838</td>\n",
       "      <td>2.294882</td>\n",
       "      <td>29.881138</td>\n",
       "      <td>0.498854</td>\n",
       "      <td>0.385027</td>\n",
       "      <td>33.295479</td>\n",
       "    </tr>\n",
       "    <tr>\n",
       "      <th>std</th>\n",
       "      <td>378.020061</td>\n",
       "      <td>0.486592</td>\n",
       "      <td>0.837836</td>\n",
       "      <td>14.413493</td>\n",
       "      <td>1.041658</td>\n",
       "      <td>0.865560</td>\n",
       "      <td>51.758668</td>\n",
       "    </tr>\n",
       "    <tr>\n",
       "      <th>min</th>\n",
       "      <td>1.000000</td>\n",
       "      <td>0.000000</td>\n",
       "      <td>1.000000</td>\n",
       "      <td>0.170000</td>\n",
       "      <td>0.000000</td>\n",
       "      <td>0.000000</td>\n",
       "      <td>0.000000</td>\n",
       "    </tr>\n",
       "    <tr>\n",
       "      <th>25%</th>\n",
       "      <td>328.000000</td>\n",
       "      <td>0.000000</td>\n",
       "      <td>2.000000</td>\n",
       "      <td>21.000000</td>\n",
       "      <td>0.000000</td>\n",
       "      <td>0.000000</td>\n",
       "      <td>7.895800</td>\n",
       "    </tr>\n",
       "    <tr>\n",
       "      <th>50%</th>\n",
       "      <td>655.000000</td>\n",
       "      <td>0.000000</td>\n",
       "      <td>3.000000</td>\n",
       "      <td>28.000000</td>\n",
       "      <td>0.000000</td>\n",
       "      <td>0.000000</td>\n",
       "      <td>14.454200</td>\n",
       "    </tr>\n",
       "    <tr>\n",
       "      <th>75%</th>\n",
       "      <td>982.000000</td>\n",
       "      <td>1.000000</td>\n",
       "      <td>3.000000</td>\n",
       "      <td>39.000000</td>\n",
       "      <td>1.000000</td>\n",
       "      <td>0.000000</td>\n",
       "      <td>31.275000</td>\n",
       "    </tr>\n",
       "    <tr>\n",
       "      <th>max</th>\n",
       "      <td>1309.000000</td>\n",
       "      <td>1.000000</td>\n",
       "      <td>3.000000</td>\n",
       "      <td>80.000000</td>\n",
       "      <td>8.000000</td>\n",
       "      <td>9.000000</td>\n",
       "      <td>512.329200</td>\n",
       "    </tr>\n",
       "  </tbody>\n",
       "</table>\n",
       "</div>"
      ],
      "text/plain": [
       "       PassengerId    Survived       Pclass          Age        SibSp  \\\n",
       "count  1309.000000  891.000000  1309.000000  1046.000000  1309.000000   \n",
       "mean    655.000000    0.383838     2.294882    29.881138     0.498854   \n",
       "std     378.020061    0.486592     0.837836    14.413493     1.041658   \n",
       "min       1.000000    0.000000     1.000000     0.170000     0.000000   \n",
       "25%     328.000000    0.000000     2.000000    21.000000     0.000000   \n",
       "50%     655.000000    0.000000     3.000000    28.000000     0.000000   \n",
       "75%     982.000000    1.000000     3.000000    39.000000     1.000000   \n",
       "max    1309.000000    1.000000     3.000000    80.000000     8.000000   \n",
       "\n",
       "             Parch         Fare  \n",
       "count  1309.000000  1308.000000  \n",
       "mean      0.385027    33.295479  \n",
       "std       0.865560    51.758668  \n",
       "min       0.000000     0.000000  \n",
       "25%       0.000000     7.895800  \n",
       "50%       0.000000    14.454200  \n",
       "75%       0.000000    31.275000  \n",
       "max       9.000000   512.329200  "
      ]
     },
     "execution_count": 13,
     "metadata": {},
     "output_type": "execute_result"
    }
   ],
   "source": [
    "data.describe()"
   ]
  },
  {
   "cell_type": "markdown",
   "metadata": {
    "papermill": {
     "duration": 0.069962,
     "end_time": "2020-12-08T12:36:10.732223",
     "exception": false,
     "start_time": "2020-12-08T12:36:10.662261",
     "status": "completed"
    },
    "tags": []
   },
   "source": [
    "<a id='5'></a><br>\n",
    "# Data Analysis\n",
    "\n",
    "* Feature Analysis\n",
    "* Corelation Between Features\n",
    "\n"
   ]
  },
  {
   "cell_type": "markdown",
   "metadata": {
    "papermill": {
     "duration": 0.070291,
     "end_time": "2020-12-08T12:36:10.877731",
     "exception": false,
     "start_time": "2020-12-08T12:36:10.807440",
     "status": "completed"
    },
    "tags": []
   },
   "source": [
    "<a id='6'></a><br>\n",
    "## 1- Feature Analysis\n",
    "\n",
    "* Sex - Survived\n",
    "* Pclass - Survived\n",
    "* Embarked - Survived\n",
    "* SibSp - Survived\n",
    "* Parch - Survived\n",
    "* Age - Survived\n",
    "* Fare - Survived"
   ]
  },
  {
   "cell_type": "markdown",
   "metadata": {
    "papermill": {
     "duration": 0.071699,
     "end_time": "2020-12-08T12:36:11.020794",
     "exception": false,
     "start_time": "2020-12-08T12:36:10.949095",
     "status": "completed"
    },
    "tags": []
   },
   "source": [
    "### Sex - Survived\n",
    "\n",
    "Female are more likely to survive than male."
   ]
  },
  {
   "cell_type": "code",
   "execution_count": 14,
   "metadata": {
    "execution": {
     "iopub.execute_input": "2020-12-08T12:36:11.185658Z",
     "iopub.status.busy": "2020-12-08T12:36:11.175775Z",
     "iopub.status.idle": "2020-12-08T12:36:11.194125Z",
     "shell.execute_reply": "2020-12-08T12:36:11.193297Z"
    },
    "papermill": {
     "duration": 0.098982,
     "end_time": "2020-12-08T12:36:11.194269",
     "exception": false,
     "start_time": "2020-12-08T12:36:11.095287",
     "status": "completed"
    },
    "tags": []
   },
   "outputs": [
    {
     "data": {
      "text/html": [
       "<div>\n",
       "<style scoped>\n",
       "    .dataframe tbody tr th:only-of-type {\n",
       "        vertical-align: middle;\n",
       "    }\n",
       "\n",
       "    .dataframe tbody tr th {\n",
       "        vertical-align: top;\n",
       "    }\n",
       "\n",
       "    .dataframe thead th {\n",
       "        text-align: right;\n",
       "    }\n",
       "</style>\n",
       "<table border=\"1\" class=\"dataframe\">\n",
       "  <thead>\n",
       "    <tr style=\"text-align: right;\">\n",
       "      <th></th>\n",
       "      <th>Sex</th>\n",
       "      <th>Survived</th>\n",
       "    </tr>\n",
       "  </thead>\n",
       "  <tbody>\n",
       "    <tr>\n",
       "      <th>0</th>\n",
       "      <td>female</td>\n",
       "      <td>0.742038</td>\n",
       "    </tr>\n",
       "    <tr>\n",
       "      <th>1</th>\n",
       "      <td>male</td>\n",
       "      <td>0.188908</td>\n",
       "    </tr>\n",
       "  </tbody>\n",
       "</table>\n",
       "</div>"
      ],
      "text/plain": [
       "      Sex  Survived\n",
       "0  female  0.742038\n",
       "1    male  0.188908"
      ]
     },
     "execution_count": 14,
     "metadata": {},
     "output_type": "execute_result"
    }
   ],
   "source": [
    "data[[\"Sex\", \"Survived\"]].groupby([\"Sex\"], as_index = False).mean()"
   ]
  },
  {
   "cell_type": "code",
   "execution_count": 28,
   "metadata": {
    "execution": {
     "iopub.execute_input": "2020-12-08T12:36:11.346686Z",
     "iopub.status.busy": "2020-12-08T12:36:11.345723Z",
     "iopub.status.idle": "2020-12-08T12:36:11.602957Z",
     "shell.execute_reply": "2020-12-08T12:36:11.603559Z"
    },
    "papermill": {
     "duration": 0.336598,
     "end_time": "2020-12-08T12:36:11.603737",
     "exception": false,
     "start_time": "2020-12-08T12:36:11.267139",
     "status": "completed"
    },
    "tags": []
   },
   "outputs": [
    {
     "data": {
      "image/png": "[encoded data removed]",
      "text/plain": [
       "<Figure size 640x480 with 1 Axes>"
      ]
     },
     "metadata": {},
     "output_type": "display_data"
    }
   ],
   "source": [
    "sns.barplot(x=\"Sex\", y=\"Survived\", data=data, palette=\"Set1\")\n",
    "plt.show()"
   ]
  },
  {
   "cell_type": "markdown",
   "metadata": {
    "papermill": {
     "duration": 0.073417,
     "end_time": "2020-12-08T12:36:11.749413",
     "exception": false,
     "start_time": "2020-12-08T12:36:11.675996",
     "status": "completed"
    },
    "tags": []
   },
   "source": [
    "### Pclass - Survived"
   ]
  },
  {
   "cell_type": "code",
   "execution_count": 30,
   "metadata": {
    "execution": {
     "iopub.execute_input": "2020-12-08T12:36:11.900631Z",
     "iopub.status.busy": "2020-12-08T12:36:11.899815Z",
     "iopub.status.idle": "2020-12-08T12:36:12.201459Z",
     "shell.execute_reply": "2020-12-08T12:36:12.200619Z"
    },
    "papermill": {
     "duration": 0.380398,
     "end_time": "2020-12-08T12:36:12.201638",
     "exception": false,
     "start_time": "2020-12-08T12:36:11.821240",
     "status": "completed"
    },
    "tags": []
   },
   "outputs": [
    {
     "data": {
      "image/png": "[encoded data removed]",
      "text/plain": [
       "<Figure size 640x480 with 1 Axes>"
      ]
     },
     "metadata": {},
     "output_type": "display_data"
    }
   ],
   "source": [
    "sns.barplot(x=\"Pclass\", y =\"Survived\", data=data, palette=\"Set1\")\n",
    "plt.show()"
   ]
  },
  {
   "cell_type": "markdown",
   "metadata": {
    "papermill": {
     "duration": 0.076722,
     "end_time": "2020-12-08T12:36:12.354947",
     "exception": false,
     "start_time": "2020-12-08T12:36:12.278225",
     "status": "completed"
    },
    "tags": []
   },
   "source": [
    "### Embarked - Survived"
   ]
  },
  {
   "cell_type": "code",
   "execution_count": 31,
   "metadata": {
    "execution": {
     "iopub.execute_input": "2020-12-08T12:36:12.510464Z",
     "iopub.status.busy": "2020-12-08T12:36:12.509314Z",
     "iopub.status.idle": "2020-12-08T12:36:12.800337Z",
     "shell.execute_reply": "2020-12-08T12:36:12.799666Z"
    },
    "papermill": {
     "duration": 0.372372,
     "end_time": "2020-12-08T12:36:12.800469",
     "exception": false,
     "start_time": "2020-12-08T12:36:12.428097",
     "status": "completed"
    },
    "tags": []
   },
   "outputs": [
    {
     "data": {
      "image/png": "[encoded data removed]",
      "text/plain": [
       "<Figure size 640x480 with 1 Axes>"
      ]
     },
     "metadata": {},
     "output_type": "display_data"
    }
   ],
   "source": [
    "sns.barplot(x=\"Embarked\", y =\"Survived\", data=data, palette=\"Set1\")\n",
    "plt.show()"
   ]
  },
  {
   "cell_type": "markdown",
   "metadata": {
    "papermill": {
     "duration": 0.073028,
     "end_time": "2020-12-08T12:36:12.946926",
     "exception": false,
     "start_time": "2020-12-08T12:36:12.873898",
     "status": "completed"
    },
    "tags": []
   },
   "source": [
    "### SibSp - Survived"
   ]
  },
  {
   "cell_type": "code",
   "execution_count": 32,
   "metadata": {
    "execution": {
     "iopub.execute_input": "2020-12-08T12:36:13.112094Z",
     "iopub.status.busy": "2020-12-08T12:36:13.110805Z",
     "iopub.status.idle": "2020-12-08T12:36:13.565468Z",
     "shell.execute_reply": "2020-12-08T12:36:13.564798Z"
    },
    "papermill": {
     "duration": 0.543466,
     "end_time": "2020-12-08T12:36:13.565604",
     "exception": false,
     "start_time": "2020-12-08T12:36:13.022138",
     "status": "completed"
    },
    "tags": []
   },
   "outputs": [
    {
     "data": {
      "image/png": "[encoded data removed]",
      "text/plain": [
       "<Figure size 640x480 with 1 Axes>"
      ]
     },
     "metadata": {},
     "output_type": "display_data"
    }
   ],
   "source": [
    "sns.barplot(x=\"SibSp\", y =\"Survived\", data=data, palette=\"Set1\")\n",
    "plt.show()"
   ]
  },
  {
   "cell_type": "markdown",
   "metadata": {
    "papermill": {
     "duration": 0.077455,
     "end_time": "2020-12-08T12:36:13.717455",
     "exception": false,
     "start_time": "2020-12-08T12:36:13.640000",
     "status": "completed"
    },
    "tags": []
   },
   "source": [
    "### Parch - Survived"
   ]
  },
  {
   "cell_type": "code",
   "execution_count": 33,
   "metadata": {
    "execution": {
     "iopub.execute_input": "2020-12-08T12:36:13.885483Z",
     "iopub.status.busy": "2020-12-08T12:36:13.884638Z",
     "iopub.status.idle": "2020-12-08T12:36:14.406288Z",
     "shell.execute_reply": "2020-12-08T12:36:14.405597Z"
    },
    "papermill": {
     "duration": 0.60605,
     "end_time": "2020-12-08T12:36:14.406436",
     "exception": false,
     "start_time": "2020-12-08T12:36:13.800386",
     "status": "completed"
    },
    "tags": []
   },
   "outputs": [
    {
     "data": {
      "image/png": "[encoded data removed]",
      "text/plain": [
       "<Figure size 640x480 with 1 Axes>"
      ]
     },
     "metadata": {},
     "output_type": "display_data"
    }
   ],
   "source": [
    "sns.barplot(x=\"Parch\", y =\"Survived\", data=data, palette=\"Set1\")\n",
    "plt.show()"
   ]
  },
  {
   "cell_type": "markdown",
   "metadata": {
    "papermill": {
     "duration": 0.082493,
     "end_time": "2020-12-08T12:36:14.565188",
     "exception": false,
     "start_time": "2020-12-08T12:36:14.482695",
     "status": "completed"
    },
    "tags": []
   },
   "source": [
    " ### Age - Survived"
   ]
  },
  {
   "cell_type": "code",
   "execution_count": 34,
   "metadata": {
    "execution": {
     "iopub.execute_input": "2020-12-08T12:36:14.734161Z",
     "iopub.status.busy": "2020-12-08T12:36:14.727349Z",
     "iopub.status.idle": "2020-12-08T12:36:15.415991Z",
     "shell.execute_reply": "2020-12-08T12:36:15.415124Z"
    },
    "papermill": {
     "duration": 0.774453,
     "end_time": "2020-12-08T12:36:15.416174",
     "exception": false,
     "start_time": "2020-12-08T12:36:14.641721",
     "status": "completed"
    },
    "tags": []
   },
   "outputs": [
    {
     "data": {
      "image/png": "[encoded data removed]",
      "text/plain": [
       "<Figure size 300x600 with 2 Axes>"
      ]
     },
     "metadata": {},
     "output_type": "display_data"
    }
   ],
   "source": [
    "g = sns.FacetGrid(data, row=\"Survived\")\n",
    "g.map(sns.distplot, \"Age\", bins=25)\n",
    "plt.show()"
   ]
  },
  {
   "cell_type": "markdown",
   "metadata": {
    "papermill": {
     "duration": 0.076946,
     "end_time": "2020-12-08T12:36:15.570103",
     "exception": false,
     "start_time": "2020-12-08T12:36:15.493157",
     "status": "completed"
    },
    "tags": []
   },
   "source": [
    " ### Fare - Survived"
   ]
  },
  {
   "cell_type": "code",
   "execution_count": 35,
   "metadata": {
    "execution": {
     "iopub.execute_input": "2020-12-08T12:36:15.738412Z",
     "iopub.status.busy": "2020-12-08T12:36:15.731650Z",
     "iopub.status.idle": "2020-12-08T12:36:16.410348Z",
     "shell.execute_reply": "2020-12-08T12:36:16.409619Z"
    },
    "papermill": {
     "duration": 0.763367,
     "end_time": "2020-12-08T12:36:16.410487",
     "exception": false,
     "start_time": "2020-12-08T12:36:15.647120",
     "status": "completed"
    },
    "tags": []
   },
   "outputs": [
    {
     "data": {
      "image/png": "[encoded data removed]",
      "text/plain": [
       "<Figure size 300x600 with 2 Axes>"
      ]
     },
     "metadata": {},
     "output_type": "display_data"
    }
   ],
   "source": [
    "g = sns.FacetGrid(data, row=\"Survived\")\n",
    "g.map(sns.distplot, \"Fare\", bins=25)\n",
    "plt.show()"
   ]
  },
  {
   "cell_type": "markdown",
   "metadata": {
    "papermill": {
     "duration": 0.078362,
     "end_time": "2020-12-08T12:36:16.567208",
     "exception": false,
     "start_time": "2020-12-08T12:36:16.488846",
     "status": "completed"
    },
    "tags": []
   },
   "source": [
    "<a id='7'></a><br>\n",
    "## 2-Correlation Between Features"
   ]
  },
  {
   "cell_type": "code",
   "execution_count": 36,
   "metadata": {
    "execution": {
     "iopub.execute_input": "2020-12-08T12:36:16.791427Z",
     "iopub.status.busy": "2020-12-08T12:36:16.787637Z",
     "iopub.status.idle": "2020-12-08T12:36:17.309520Z",
     "shell.execute_reply": "2020-12-08T12:36:17.310145Z"
    },
    "papermill": {
     "duration": 0.612251,
     "end_time": "2020-12-08T12:36:17.310330",
     "exception": false,
     "start_time": "2020-12-08T12:36:16.698079",
     "status": "completed"
    },
    "tags": []
   },
   "outputs": [
    {
     "data": {
      "image/png": "[encoded data removed]",
      "text/plain": [
       "<Figure size 640x480 with 2 Axes>"
      ]
     },
     "metadata": {},
     "output_type": "display_data"
    }
   ],
   "source": [
    "#data[\"Sex\"] = [0 if i == \"male\" else 1 for i in data[\"Sex\"]]\n",
    "data['Sex'].replace(['male','female'],[0,1],inplace=True)\n",
    "data['Embarked'].replace(['S','C','Q'],[0,1,2],inplace=True)\n",
    "# male: 0, famela: 1\n",
    "sns.heatmap(data[[\"Age\",\"Sex\",\"SibSp\",\"Parch\",\"Pclass\",\"Fare\",\"Embarked\", \"Survived\"]].corr(), annot = True)\n",
    "plt.show()"
   ]
  },
  {
   "cell_type": "markdown",
   "metadata": {
    "papermill": {
     "duration": 0.079828,
     "end_time": "2020-12-08T12:36:17.471561",
     "exception": false,
     "start_time": "2020-12-08T12:36:17.391733",
     "status": "completed"
    },
    "tags": []
   },
   "source": [
    "**Outcome**    \n",
    "\n",
    "* Sex, Pclass, Fare and Embarked are associated with Survived. \n",
    "\n",
    "\n"
   ]
  },
  {
   "cell_type": "markdown",
   "metadata": {
    "papermill": {
     "duration": 0.079614,
     "end_time": "2020-12-08T12:36:17.630899",
     "exception": false,
     "start_time": "2020-12-08T12:36:17.551285",
     "status": "completed"
    },
    "tags": []
   },
   "source": [
    "<a id='8'></a><br>\n",
    "# Missing Value\n",
    "\n",
    "* Find Missing Value\n",
    "* Fill Missing Value\n"
   ]
  },
  {
   "cell_type": "markdown",
   "metadata": {
    "papermill": {
     "duration": 0.079581,
     "end_time": "2020-12-08T12:36:17.793060",
     "exception": false,
     "start_time": "2020-12-08T12:36:17.713479",
     "status": "completed"
    },
    "tags": []
   },
   "source": [
    "<a id='9'></a><br>\n",
    "## 1-Find Missing Value\n",
    "\n",
    "* Age, Fare and Cabin have missing value. Therefore we are looking at the correlation matrix.\n",
    "\n",
    "Correlation Matrix\n",
    "* Pclass is associated with Fare.\n",
    "* Embarked is not associated with any feature.\n",
    "* Pclass and SibSp are associated with Age."
   ]
  },
  {
   "cell_type": "code",
   "execution_count": 37,
   "metadata": {
    "execution": {
     "iopub.execute_input": "2020-12-08T12:36:17.964393Z",
     "iopub.status.busy": "2020-12-08T12:36:17.963430Z",
     "iopub.status.idle": "2020-12-08T12:36:17.968310Z",
     "shell.execute_reply": "2020-12-08T12:36:17.967538Z"
    },
    "papermill": {
     "duration": 0.09494,
     "end_time": "2020-12-08T12:36:17.968443",
     "exception": false,
     "start_time": "2020-12-08T12:36:17.873503",
     "status": "completed"
    },
    "tags": []
   },
   "outputs": [
    {
     "data": {
      "text/plain": [
       "Index(['Survived', 'Age', 'Fare', 'Cabin', 'Embarked'], dtype='object')"
      ]
     },
     "execution_count": 37,
     "metadata": {},
     "output_type": "execute_result"
    }
   ],
   "source": [
    "data.columns[data.isnull().any()]"
   ]
  },
  {
   "cell_type": "code",
   "execution_count": 38,
   "metadata": {
    "execution": {
     "iopub.execute_input": "2020-12-08T12:36:18.144329Z",
     "iopub.status.busy": "2020-12-08T12:36:18.143216Z",
     "iopub.status.idle": "2020-12-08T12:36:18.148620Z",
     "shell.execute_reply": "2020-12-08T12:36:18.147802Z"
    },
    "papermill": {
     "duration": 0.098994,
     "end_time": "2020-12-08T12:36:18.148759",
     "exception": false,
     "start_time": "2020-12-08T12:36:18.049765",
     "status": "completed"
    },
    "tags": []
   },
   "outputs": [
    {
     "data": {
      "text/plain": [
       "PassengerId       0\n",
       "Survived        418\n",
       "Pclass            0\n",
       "Name              0\n",
       "Sex               0\n",
       "Age             263\n",
       "SibSp             0\n",
       "Parch             0\n",
       "Ticket            0\n",
       "Fare              1\n",
       "Cabin          1014\n",
       "Embarked          2\n",
       "dtype: int64"
      ]
     },
     "execution_count": 38,
     "metadata": {},
     "output_type": "execute_result"
    }
   ],
   "source": [
    "data.isnull().sum()"
   ]
  },
  {
   "cell_type": "markdown",
   "metadata": {
    "papermill": {
     "duration": 0.089183,
     "end_time": "2020-12-08T12:36:18.320262",
     "exception": false,
     "start_time": "2020-12-08T12:36:18.231079",
     "status": "completed"
    },
    "tags": []
   },
   "source": [
    "<a id='10'></a><br>\n",
    "## 2-Fill Missing Value\n",
    "\n",
    "* Cabin has 1007 missing value\n",
    "* Age has 256 missing value\n",
    "* Embarked has 2 missing value\n",
    "* Fare has 1 missing value\n",
    "\n",
    "Not: Survived has 418 missing value (only test value)"
   ]
  },
  {
   "cell_type": "markdown",
   "metadata": {
    "papermill": {
     "duration": 0.082181,
     "end_time": "2020-12-08T12:36:18.486987",
     "exception": false,
     "start_time": "2020-12-08T12:36:18.404806",
     "status": "completed"
    },
    "tags": []
   },
   "source": [
    "### Fare Fill Value\n",
    "\n",
    "Pclass is associated with Fare."
   ]
  },
  {
   "cell_type": "code",
   "execution_count": 39,
   "metadata": {
    "execution": {
     "iopub.execute_input": "2020-12-08T12:36:18.669855Z",
     "iopub.status.busy": "2020-12-08T12:36:18.668781Z",
     "iopub.status.idle": "2020-12-08T12:36:18.674706Z",
     "shell.execute_reply": "2020-12-08T12:36:18.673916Z"
    },
    "papermill": {
     "duration": 0.105238,
     "end_time": "2020-12-08T12:36:18.674848",
     "exception": false,
     "start_time": "2020-12-08T12:36:18.569610",
     "status": "completed"
    },
    "tags": []
   },
   "outputs": [
    {
     "data": {
      "text/html": [
       "<div>\n",
       "<style scoped>\n",
       "    .dataframe tbody tr th:only-of-type {\n",
       "        vertical-align: middle;\n",
       "    }\n",
       "\n",
       "    .dataframe tbody tr th {\n",
       "        vertical-align: top;\n",
       "    }\n",
       "\n",
       "    .dataframe thead th {\n",
       "        text-align: right;\n",
       "    }\n",
       "</style>\n",
       "<table border=\"1\" class=\"dataframe\">\n",
       "  <thead>\n",
       "    <tr style=\"text-align: right;\">\n",
       "      <th></th>\n",
       "      <th>PassengerId</th>\n",
       "      <th>Survived</th>\n",
       "      <th>Pclass</th>\n",
       "      <th>Name</th>\n",
       "      <th>Sex</th>\n",
       "      <th>Age</th>\n",
       "      <th>SibSp</th>\n",
       "      <th>Parch</th>\n",
       "      <th>Ticket</th>\n",
       "      <th>Fare</th>\n",
       "      <th>Cabin</th>\n",
       "      <th>Embarked</th>\n",
       "    </tr>\n",
       "  </thead>\n",
       "  <tbody>\n",
       "    <tr>\n",
       "      <th>1043</th>\n",
       "      <td>1044</td>\n",
       "      <td>NaN</td>\n",
       "      <td>3</td>\n",
       "      <td>Storey, Mr. Thomas</td>\n",
       "      <td>0</td>\n",
       "      <td>60.5</td>\n",
       "      <td>0</td>\n",
       "      <td>0</td>\n",
       "      <td>3701</td>\n",
       "      <td>NaN</td>\n",
       "      <td>NaN</td>\n",
       "      <td>0.0</td>\n",
       "    </tr>\n",
       "  </tbody>\n",
       "</table>\n",
       "</div>"
      ],
      "text/plain": [
       "      PassengerId  Survived  Pclass                Name  Sex   Age  SibSp  \\\n",
       "1043         1044       NaN       3  Storey, Mr. Thomas    0  60.5      0   \n",
       "\n",
       "      Parch Ticket  Fare Cabin  Embarked  \n",
       "1043      0   3701   NaN   NaN       0.0  "
      ]
     },
     "execution_count": 39,
     "metadata": {},
     "output_type": "execute_result"
    }
   ],
   "source": [
    "data[data[\"Fare\"].isnull()]"
   ]
  },
  {
   "cell_type": "code",
   "execution_count": 40,
   "metadata": {
    "execution": {
     "iopub.execute_input": "2020-12-08T12:36:18.859234Z",
     "iopub.status.busy": "2020-12-08T12:36:18.858001Z",
     "iopub.status.idle": "2020-12-08T12:36:18.863419Z",
     "shell.execute_reply": "2020-12-08T12:36:18.862550Z"
    },
    "papermill": {
     "duration": 0.104643,
     "end_time": "2020-12-08T12:36:18.863564",
     "exception": false,
     "start_time": "2020-12-08T12:36:18.758921",
     "status": "completed"
    },
    "tags": []
   },
   "outputs": [
    {
     "data": {
      "text/html": [
       "<div>\n",
       "<style scoped>\n",
       "    .dataframe tbody tr th:only-of-type {\n",
       "        vertical-align: middle;\n",
       "    }\n",
       "\n",
       "    .dataframe tbody tr th {\n",
       "        vertical-align: top;\n",
       "    }\n",
       "\n",
       "    .dataframe thead th {\n",
       "        text-align: right;\n",
       "    }\n",
       "</style>\n",
       "<table border=\"1\" class=\"dataframe\">\n",
       "  <thead>\n",
       "    <tr style=\"text-align: right;\">\n",
       "      <th></th>\n",
       "      <th>PassengerId</th>\n",
       "      <th>Survived</th>\n",
       "      <th>Pclass</th>\n",
       "      <th>Name</th>\n",
       "      <th>Sex</th>\n",
       "      <th>Age</th>\n",
       "      <th>SibSp</th>\n",
       "      <th>Parch</th>\n",
       "      <th>Ticket</th>\n",
       "      <th>Fare</th>\n",
       "      <th>Cabin</th>\n",
       "      <th>Embarked</th>\n",
       "    </tr>\n",
       "  </thead>\n",
       "  <tbody>\n",
       "  </tbody>\n",
       "</table>\n",
       "</div>"
      ],
      "text/plain": [
       "Empty DataFrame\n",
       "Columns: [PassengerId, Survived, Pclass, Name, Sex, Age, SibSp, Parch, Ticket, Fare, Cabin, Embarked]\n",
       "Index: []"
      ]
     },
     "execution_count": 40,
     "metadata": {},
     "output_type": "execute_result"
    }
   ],
   "source": [
    "data[\"Fare\"] = data[\"Fare\"].fillna(np.mean(data[((data[\"Pclass\"]==3) & (data[\"Embarked\"]==0))][\"Fare\"]))\n",
    "data[data[\"Fare\"].isnull()]"
   ]
  },
  {
   "cell_type": "markdown",
   "metadata": {
    "papermill": {
     "duration": 0.084768,
     "end_time": "2020-12-08T12:36:19.031440",
     "exception": false,
     "start_time": "2020-12-08T12:36:18.946672",
     "status": "completed"
    },
    "tags": []
   },
   "source": [
    "### Embarked Fill Value\n",
    "\n",
    "Embarked is not associated with any feature.\n",
    "\n",
    "S = 0,  C = 1 and Q = 2"
   ]
  },
  {
   "cell_type": "code",
   "execution_count": 41,
   "metadata": {
    "execution": {
     "iopub.execute_input": "2020-12-08T12:36:19.221023Z",
     "iopub.status.busy": "2020-12-08T12:36:19.219904Z",
     "iopub.status.idle": "2020-12-08T12:36:19.224747Z",
     "shell.execute_reply": "2020-12-08T12:36:19.224021Z"
    },
    "papermill": {
     "duration": 0.107524,
     "end_time": "2020-12-08T12:36:19.224885",
     "exception": false,
     "start_time": "2020-12-08T12:36:19.117361",
     "status": "completed"
    },
    "tags": []
   },
   "outputs": [
    {
     "data": {
      "text/html": [
       "<div>\n",
       "<style scoped>\n",
       "    .dataframe tbody tr th:only-of-type {\n",
       "        vertical-align: middle;\n",
       "    }\n",
       "\n",
       "    .dataframe tbody tr th {\n",
       "        vertical-align: top;\n",
       "    }\n",
       "\n",
       "    .dataframe thead th {\n",
       "        text-align: right;\n",
       "    }\n",
       "</style>\n",
       "<table border=\"1\" class=\"dataframe\">\n",
       "  <thead>\n",
       "    <tr style=\"text-align: right;\">\n",
       "      <th></th>\n",
       "      <th>PassengerId</th>\n",
       "      <th>Survived</th>\n",
       "      <th>Pclass</th>\n",
       "      <th>Name</th>\n",
       "      <th>Sex</th>\n",
       "      <th>Age</th>\n",
       "      <th>SibSp</th>\n",
       "      <th>Parch</th>\n",
       "      <th>Ticket</th>\n",
       "      <th>Fare</th>\n",
       "      <th>Cabin</th>\n",
       "      <th>Embarked</th>\n",
       "    </tr>\n",
       "  </thead>\n",
       "  <tbody>\n",
       "    <tr>\n",
       "      <th>61</th>\n",
       "      <td>62</td>\n",
       "      <td>1.0</td>\n",
       "      <td>1</td>\n",
       "      <td>Icard, Miss. Amelie</td>\n",
       "      <td>1</td>\n",
       "      <td>38.0</td>\n",
       "      <td>0</td>\n",
       "      <td>0</td>\n",
       "      <td>113572</td>\n",
       "      <td>80.0</td>\n",
       "      <td>B28</td>\n",
       "      <td>NaN</td>\n",
       "    </tr>\n",
       "    <tr>\n",
       "      <th>829</th>\n",
       "      <td>830</td>\n",
       "      <td>1.0</td>\n",
       "      <td>1</td>\n",
       "      <td>Stone, Mrs. George Nelson (Martha Evelyn)</td>\n",
       "      <td>1</td>\n",
       "      <td>62.0</td>\n",
       "      <td>0</td>\n",
       "      <td>0</td>\n",
       "      <td>113572</td>\n",
       "      <td>80.0</td>\n",
       "      <td>B28</td>\n",
       "      <td>NaN</td>\n",
       "    </tr>\n",
       "  </tbody>\n",
       "</table>\n",
       "</div>"
      ],
      "text/plain": [
       "     PassengerId  Survived  Pclass                                       Name  \\\n",
       "61            62       1.0       1                        Icard, Miss. Amelie   \n",
       "829          830       1.0       1  Stone, Mrs. George Nelson (Martha Evelyn)   \n",
       "\n",
       "     Sex   Age  SibSp  Parch  Ticket  Fare Cabin  Embarked  \n",
       "61     1  38.0      0      0  113572  80.0   B28       NaN  \n",
       "829    1  62.0      0      0  113572  80.0   B28       NaN  "
      ]
     },
     "execution_count": 41,
     "metadata": {},
     "output_type": "execute_result"
    }
   ],
   "source": [
    "data[data[\"Embarked\"].isnull()]"
   ]
  },
  {
   "cell_type": "code",
   "execution_count": 42,
   "metadata": {
    "execution": {
     "iopub.execute_input": "2020-12-08T12:36:19.409777Z",
     "iopub.status.busy": "2020-12-08T12:36:19.408724Z",
     "iopub.status.idle": "2020-12-08T12:36:19.414449Z",
     "shell.execute_reply": "2020-12-08T12:36:19.413773Z"
    },
    "papermill": {
     "duration": 0.104489,
     "end_time": "2020-12-08T12:36:19.414581",
     "exception": false,
     "start_time": "2020-12-08T12:36:19.310092",
     "status": "completed"
    },
    "tags": []
   },
   "outputs": [
    {
     "data": {
      "text/html": [
       "<div>\n",
       "<style scoped>\n",
       "    .dataframe tbody tr th:only-of-type {\n",
       "        vertical-align: middle;\n",
       "    }\n",
       "\n",
       "    .dataframe tbody tr th {\n",
       "        vertical-align: top;\n",
       "    }\n",
       "\n",
       "    .dataframe thead th {\n",
       "        text-align: right;\n",
       "    }\n",
       "</style>\n",
       "<table border=\"1\" class=\"dataframe\">\n",
       "  <thead>\n",
       "    <tr style=\"text-align: right;\">\n",
       "      <th></th>\n",
       "      <th>PassengerId</th>\n",
       "      <th>Survived</th>\n",
       "      <th>Pclass</th>\n",
       "      <th>Name</th>\n",
       "      <th>Sex</th>\n",
       "      <th>Age</th>\n",
       "      <th>SibSp</th>\n",
       "      <th>Parch</th>\n",
       "      <th>Ticket</th>\n",
       "      <th>Fare</th>\n",
       "      <th>Cabin</th>\n",
       "      <th>Embarked</th>\n",
       "    </tr>\n",
       "  </thead>\n",
       "  <tbody>\n",
       "  </tbody>\n",
       "</table>\n",
       "</div>"
      ],
      "text/plain": [
       "Empty DataFrame\n",
       "Columns: [PassengerId, Survived, Pclass, Name, Sex, Age, SibSp, Parch, Ticket, Fare, Cabin, Embarked]\n",
       "Index: []"
      ]
     },
     "execution_count": 42,
     "metadata": {},
     "output_type": "execute_result"
    }
   ],
   "source": [
    "data[\"Embarked\"] = data[\"Embarked\"].fillna(1)\n",
    "data[data[\"Embarked\"].isnull()]"
   ]
  },
  {
   "cell_type": "markdown",
   "metadata": {
    "papermill": {
     "duration": 0.083768,
     "end_time": "2020-12-08T12:36:19.583084",
     "exception": false,
     "start_time": "2020-12-08T12:36:19.499316",
     "status": "completed"
    },
    "tags": []
   },
   "source": [
    "### Age Fill Value\n",
    "\n",
    "Pclass and SibSp are associated with Age."
   ]
  },
  {
   "cell_type": "code",
   "execution_count": 43,
   "metadata": {
    "execution": {
     "iopub.execute_input": "2020-12-08T12:36:19.770014Z",
     "iopub.status.busy": "2020-12-08T12:36:19.764910Z",
     "iopub.status.idle": "2020-12-08T12:36:19.792935Z",
     "shell.execute_reply": "2020-12-08T12:36:19.792133Z"
    },
    "papermill": {
     "duration": 0.125862,
     "end_time": "2020-12-08T12:36:19.793088",
     "exception": false,
     "start_time": "2020-12-08T12:36:19.667226",
     "status": "completed"
    },
    "tags": []
   },
   "outputs": [
    {
     "data": {
      "text/html": [
       "<div>\n",
       "<style scoped>\n",
       "    .dataframe tbody tr th:only-of-type {\n",
       "        vertical-align: middle;\n",
       "    }\n",
       "\n",
       "    .dataframe tbody tr th {\n",
       "        vertical-align: top;\n",
       "    }\n",
       "\n",
       "    .dataframe thead th {\n",
       "        text-align: right;\n",
       "    }\n",
       "</style>\n",
       "<table border=\"1\" class=\"dataframe\">\n",
       "  <thead>\n",
       "    <tr style=\"text-align: right;\">\n",
       "      <th></th>\n",
       "      <th>PassengerId</th>\n",
       "      <th>Survived</th>\n",
       "      <th>Pclass</th>\n",
       "      <th>Name</th>\n",
       "      <th>Sex</th>\n",
       "      <th>Age</th>\n",
       "      <th>SibSp</th>\n",
       "      <th>Parch</th>\n",
       "      <th>Ticket</th>\n",
       "      <th>Fare</th>\n",
       "      <th>Cabin</th>\n",
       "      <th>Embarked</th>\n",
       "    </tr>\n",
       "  </thead>\n",
       "  <tbody>\n",
       "    <tr>\n",
       "      <th>5</th>\n",
       "      <td>6</td>\n",
       "      <td>0.0</td>\n",
       "      <td>3</td>\n",
       "      <td>Moran, Mr. James</td>\n",
       "      <td>0</td>\n",
       "      <td>NaN</td>\n",
       "      <td>0</td>\n",
       "      <td>0</td>\n",
       "      <td>330877</td>\n",
       "      <td>8.4583</td>\n",
       "      <td>NaN</td>\n",
       "      <td>2.0</td>\n",
       "    </tr>\n",
       "    <tr>\n",
       "      <th>17</th>\n",
       "      <td>18</td>\n",
       "      <td>1.0</td>\n",
       "      <td>2</td>\n",
       "      <td>Williams, Mr. Charles Eugene</td>\n",
       "      <td>0</td>\n",
       "      <td>NaN</td>\n",
       "      <td>0</td>\n",
       "      <td>0</td>\n",
       "      <td>244373</td>\n",
       "      <td>13.0000</td>\n",
       "      <td>NaN</td>\n",
       "      <td>0.0</td>\n",
       "    </tr>\n",
       "    <tr>\n",
       "      <th>19</th>\n",
       "      <td>20</td>\n",
       "      <td>1.0</td>\n",
       "      <td>3</td>\n",
       "      <td>Masselmani, Mrs. Fatima</td>\n",
       "      <td>1</td>\n",
       "      <td>NaN</td>\n",
       "      <td>0</td>\n",
       "      <td>0</td>\n",
       "      <td>2649</td>\n",
       "      <td>7.2250</td>\n",
       "      <td>NaN</td>\n",
       "      <td>1.0</td>\n",
       "    </tr>\n",
       "    <tr>\n",
       "      <th>26</th>\n",
       "      <td>27</td>\n",
       "      <td>0.0</td>\n",
       "      <td>3</td>\n",
       "      <td>Emir, Mr. Farred Chehab</td>\n",
       "      <td>0</td>\n",
       "      <td>NaN</td>\n",
       "      <td>0</td>\n",
       "      <td>0</td>\n",
       "      <td>2631</td>\n",
       "      <td>7.2250</td>\n",
       "      <td>NaN</td>\n",
       "      <td>1.0</td>\n",
       "    </tr>\n",
       "    <tr>\n",
       "      <th>28</th>\n",
       "      <td>29</td>\n",
       "      <td>1.0</td>\n",
       "      <td>3</td>\n",
       "      <td>O'Dwyer, Miss. Ellen \"Nellie\"</td>\n",
       "      <td>1</td>\n",
       "      <td>NaN</td>\n",
       "      <td>0</td>\n",
       "      <td>0</td>\n",
       "      <td>330959</td>\n",
       "      <td>7.8792</td>\n",
       "      <td>NaN</td>\n",
       "      <td>2.0</td>\n",
       "    </tr>\n",
       "    <tr>\n",
       "      <th>...</th>\n",
       "      <td>...</td>\n",
       "      <td>...</td>\n",
       "      <td>...</td>\n",
       "      <td>...</td>\n",
       "      <td>...</td>\n",
       "      <td>...</td>\n",
       "      <td>...</td>\n",
       "      <td>...</td>\n",
       "      <td>...</td>\n",
       "      <td>...</td>\n",
       "      <td>...</td>\n",
       "      <td>...</td>\n",
       "    </tr>\n",
       "    <tr>\n",
       "      <th>1299</th>\n",
       "      <td>1300</td>\n",
       "      <td>NaN</td>\n",
       "      <td>3</td>\n",
       "      <td>Riordan, Miss. Johanna Hannah\"\"</td>\n",
       "      <td>1</td>\n",
       "      <td>NaN</td>\n",
       "      <td>0</td>\n",
       "      <td>0</td>\n",
       "      <td>334915</td>\n",
       "      <td>7.7208</td>\n",
       "      <td>NaN</td>\n",
       "      <td>2.0</td>\n",
       "    </tr>\n",
       "    <tr>\n",
       "      <th>1301</th>\n",
       "      <td>1302</td>\n",
       "      <td>NaN</td>\n",
       "      <td>3</td>\n",
       "      <td>Naughton, Miss. Hannah</td>\n",
       "      <td>1</td>\n",
       "      <td>NaN</td>\n",
       "      <td>0</td>\n",
       "      <td>0</td>\n",
       "      <td>365237</td>\n",
       "      <td>7.7500</td>\n",
       "      <td>NaN</td>\n",
       "      <td>2.0</td>\n",
       "    </tr>\n",
       "    <tr>\n",
       "      <th>1304</th>\n",
       "      <td>1305</td>\n",
       "      <td>NaN</td>\n",
       "      <td>3</td>\n",
       "      <td>Spector, Mr. Woolf</td>\n",
       "      <td>0</td>\n",
       "      <td>NaN</td>\n",
       "      <td>0</td>\n",
       "      <td>0</td>\n",
       "      <td>A.5. 3236</td>\n",
       "      <td>8.0500</td>\n",
       "      <td>NaN</td>\n",
       "      <td>0.0</td>\n",
       "    </tr>\n",
       "    <tr>\n",
       "      <th>1307</th>\n",
       "      <td>1308</td>\n",
       "      <td>NaN</td>\n",
       "      <td>3</td>\n",
       "      <td>Ware, Mr. Frederick</td>\n",
       "      <td>0</td>\n",
       "      <td>NaN</td>\n",
       "      <td>0</td>\n",
       "      <td>0</td>\n",
       "      <td>359309</td>\n",
       "      <td>8.0500</td>\n",
       "      <td>NaN</td>\n",
       "      <td>0.0</td>\n",
       "    </tr>\n",
       "    <tr>\n",
       "      <th>1308</th>\n",
       "      <td>1309</td>\n",
       "      <td>NaN</td>\n",
       "      <td>3</td>\n",
       "      <td>Peter, Master. Michael J</td>\n",
       "      <td>0</td>\n",
       "      <td>NaN</td>\n",
       "      <td>1</td>\n",
       "      <td>1</td>\n",
       "      <td>2668</td>\n",
       "      <td>22.3583</td>\n",
       "      <td>NaN</td>\n",
       "      <td>1.0</td>\n",
       "    </tr>\n",
       "  </tbody>\n",
       "</table>\n",
       "<p>263 rows × 12 columns</p>\n",
       "</div>"
      ],
      "text/plain": [
       "      PassengerId  Survived  Pclass                             Name  Sex  \\\n",
       "5               6       0.0       3                 Moran, Mr. James    0   \n",
       "17             18       1.0       2     Williams, Mr. Charles Eugene    0   \n",
       "19             20       1.0       3          Masselmani, Mrs. Fatima    1   \n",
       "26             27       0.0       3          Emir, Mr. Farred Chehab    0   \n",
       "28             29       1.0       3    O'Dwyer, Miss. Ellen \"Nellie\"    1   \n",
       "...           ...       ...     ...                              ...  ...   \n",
       "1299         1300       NaN       3  Riordan, Miss. Johanna Hannah\"\"    1   \n",
       "1301         1302       NaN       3           Naughton, Miss. Hannah    1   \n",
       "1304         1305       NaN       3               Spector, Mr. Woolf    0   \n",
       "1307         1308       NaN       3              Ware, Mr. Frederick    0   \n",
       "1308         1309       NaN       3         Peter, Master. Michael J    0   \n",
       "\n",
       "      Age  SibSp  Parch     Ticket     Fare Cabin  Embarked  \n",
       "5     NaN      0      0     330877   8.4583   NaN       2.0  \n",
       "17    NaN      0      0     244373  13.0000   NaN       0.0  \n",
       "19    NaN      0      0       2649   7.2250   NaN       1.0  \n",
       "26    NaN      0      0       2631   7.2250   NaN       1.0  \n",
       "28    NaN      0      0     330959   7.8792   NaN       2.0  \n",
       "...   ...    ...    ...        ...      ...   ...       ...  \n",
       "1299  NaN      0      0     334915   7.7208   NaN       2.0  \n",
       "1301  NaN      0      0     365237   7.7500   NaN       2.0  \n",
       "1304  NaN      0      0  A.5. 3236   8.0500   NaN       0.0  \n",
       "1307  NaN      0      0     359309   8.0500   NaN       0.0  \n",
       "1308  NaN      1      1       2668  22.3583   NaN       1.0  \n",
       "\n",
       "[263 rows x 12 columns]"
      ]
     },
     "execution_count": 43,
     "metadata": {},
     "output_type": "execute_result"
    }
   ],
   "source": [
    "data[data[\"Age\"].isnull()]"
   ]
  },
  {
   "cell_type": "code",
   "execution_count": 44,
   "metadata": {
    "execution": {
     "iopub.execute_input": "2020-12-08T12:36:19.999154Z",
     "iopub.status.busy": "2020-12-08T12:36:19.988671Z",
     "iopub.status.idle": "2020-12-08T12:36:20.255473Z",
     "shell.execute_reply": "2020-12-08T12:36:20.254500Z"
    },
    "papermill": {
     "duration": 0.377544,
     "end_time": "2020-12-08T12:36:20.255625",
     "exception": false,
     "start_time": "2020-12-08T12:36:19.878081",
     "status": "completed"
    },
    "tags": []
   },
   "outputs": [],
   "source": [
    "data_age_nan_index = data[data[\"Age\"].isnull()].index\n",
    "for i in data_age_nan_index:\n",
    "    mean_age = data[\"Age\"][(data[\"Pclass\"]==data.iloc[i][\"Pclass\"])].median()\n",
    "    data[\"Age\"].iloc[i] = mean_age"
   ]
  },
  {
   "cell_type": "markdown",
   "metadata": {
    "papermill": {
     "duration": 0.08732,
     "end_time": "2020-12-08T12:36:20.432776",
     "exception": false,
     "start_time": "2020-12-08T12:36:20.345456",
     "status": "completed"
    },
    "tags": []
   },
   "source": [
    "<a id='8'></a><br>\n",
    "# Data Engineering\n",
    "\n",
    "* New Feature\n",
    "* Edit Feature\n",
    "* Drop Feature\n",
    "* Normalization"
   ]
  },
  {
   "cell_type": "markdown",
   "metadata": {
    "papermill": {
     "duration": 0.08746,
     "end_time": "2020-12-08T12:36:20.605685",
     "exception": false,
     "start_time": "2020-12-08T12:36:20.518225",
     "status": "completed"
    },
    "tags": []
   },
   "source": [
    "<a id='12'></a><br>\n",
    "# 1-New - Feature\n",
    "* Alone and Family\n",
    "* Title (Name)\n",
    "* Age Limit\n",
    "* Fare Limit"
   ]
  },
  {
   "cell_type": "markdown",
   "metadata": {
    "papermill": {
     "duration": 0.084885,
     "end_time": "2020-12-08T12:36:20.775994",
     "exception": false,
     "start_time": "2020-12-08T12:36:20.691109",
     "status": "completed"
    },
    "tags": []
   },
   "source": [
    "### Alone and Family \n",
    "* SibSp + Parch = family"
   ]
  },
  {
   "cell_type": "code",
   "execution_count": 46,
   "metadata": {
    "execution": {
     "iopub.execute_input": "2020-12-08T12:36:20.956592Z",
     "iopub.status.busy": "2020-12-08T12:36:20.955699Z",
     "iopub.status.idle": "2020-12-08T12:36:21.494516Z",
     "shell.execute_reply": "2020-12-08T12:36:21.493740Z"
    },
    "papermill": {
     "duration": 0.633571,
     "end_time": "2020-12-08T12:36:21.494649",
     "exception": false,
     "start_time": "2020-12-08T12:36:20.861078",
     "status": "completed"
    },
    "tags": []
   },
   "outputs": [
    {
     "data": {
      "image/png": "[encoded data removed]",
      "text/plain": [
       "<Figure size 640x480 with 1 Axes>"
      ]
     },
     "metadata": {},
     "output_type": "display_data"
    }
   ],
   "source": [
    "data[\"Family\"] = data[\"SibSp\"] + data[\"Parch\"]\n",
    "sns.barplot(x=\"Family\", y =\"Survived\", data=data, palette=\"Set1\")\n",
    "plt.show()"
   ]
  },
  {
   "cell_type": "code",
   "execution_count": 47,
   "metadata": {
    "execution": {
     "iopub.execute_input": "2020-12-08T12:36:21.677981Z",
     "iopub.status.busy": "2020-12-08T12:36:21.677163Z",
     "iopub.status.idle": "2020-12-08T12:36:21.698685Z",
     "shell.execute_reply": "2020-12-08T12:36:21.697830Z"
    },
    "papermill": {
     "duration": 0.117426,
     "end_time": "2020-12-08T12:36:21.698822",
     "exception": false,
     "start_time": "2020-12-08T12:36:21.581396",
     "status": "completed"
    },
    "tags": []
   },
   "outputs": [
    {
     "data": {
      "text/html": [
       "<div>\n",
       "<style scoped>\n",
       "    .dataframe tbody tr th:only-of-type {\n",
       "        vertical-align: middle;\n",
       "    }\n",
       "\n",
       "    .dataframe tbody tr th {\n",
       "        vertical-align: top;\n",
       "    }\n",
       "\n",
       "    .dataframe thead th {\n",
       "        text-align: right;\n",
       "    }\n",
       "</style>\n",
       "<table border=\"1\" class=\"dataframe\">\n",
       "  <thead>\n",
       "    <tr style=\"text-align: right;\">\n",
       "      <th></th>\n",
       "      <th>PassengerId</th>\n",
       "      <th>Survived</th>\n",
       "      <th>Pclass</th>\n",
       "      <th>Name</th>\n",
       "      <th>Sex</th>\n",
       "      <th>Age</th>\n",
       "      <th>SibSp</th>\n",
       "      <th>Parch</th>\n",
       "      <th>Ticket</th>\n",
       "      <th>Fare</th>\n",
       "      <th>Cabin</th>\n",
       "      <th>Embarked</th>\n",
       "      <th>Family</th>\n",
       "      <th>Alone</th>\n",
       "    </tr>\n",
       "  </thead>\n",
       "  <tbody>\n",
       "    <tr>\n",
       "      <th>0</th>\n",
       "      <td>1</td>\n",
       "      <td>0.0</td>\n",
       "      <td>3</td>\n",
       "      <td>Braund, Mr. Owen Harris</td>\n",
       "      <td>0</td>\n",
       "      <td>22.0</td>\n",
       "      <td>1</td>\n",
       "      <td>0</td>\n",
       "      <td>A/5 21171</td>\n",
       "      <td>7.2500</td>\n",
       "      <td>NaN</td>\n",
       "      <td>0.0</td>\n",
       "      <td>1</td>\n",
       "      <td>0</td>\n",
       "    </tr>\n",
       "    <tr>\n",
       "      <th>1</th>\n",
       "      <td>2</td>\n",
       "      <td>1.0</td>\n",
       "      <td>1</td>\n",
       "      <td>Cumings, Mrs. John Bradley (Florence Briggs Th...</td>\n",
       "      <td>1</td>\n",
       "      <td>38.0</td>\n",
       "      <td>1</td>\n",
       "      <td>0</td>\n",
       "      <td>PC 17599</td>\n",
       "      <td>71.2833</td>\n",
       "      <td>C85</td>\n",
       "      <td>1.0</td>\n",
       "      <td>1</td>\n",
       "      <td>0</td>\n",
       "    </tr>\n",
       "    <tr>\n",
       "      <th>2</th>\n",
       "      <td>3</td>\n",
       "      <td>1.0</td>\n",
       "      <td>3</td>\n",
       "      <td>Heikkinen, Miss. Laina</td>\n",
       "      <td>1</td>\n",
       "      <td>26.0</td>\n",
       "      <td>0</td>\n",
       "      <td>0</td>\n",
       "      <td>STON/O2. 3101282</td>\n",
       "      <td>7.9250</td>\n",
       "      <td>NaN</td>\n",
       "      <td>0.0</td>\n",
       "      <td>0</td>\n",
       "      <td>1</td>\n",
       "    </tr>\n",
       "    <tr>\n",
       "      <th>3</th>\n",
       "      <td>4</td>\n",
       "      <td>1.0</td>\n",
       "      <td>1</td>\n",
       "      <td>Futrelle, Mrs. Jacques Heath (Lily May Peel)</td>\n",
       "      <td>1</td>\n",
       "      <td>35.0</td>\n",
       "      <td>1</td>\n",
       "      <td>0</td>\n",
       "      <td>113803</td>\n",
       "      <td>53.1000</td>\n",
       "      <td>C123</td>\n",
       "      <td>0.0</td>\n",
       "      <td>1</td>\n",
       "      <td>0</td>\n",
       "    </tr>\n",
       "    <tr>\n",
       "      <th>4</th>\n",
       "      <td>5</td>\n",
       "      <td>0.0</td>\n",
       "      <td>3</td>\n",
       "      <td>Allen, Mr. William Henry</td>\n",
       "      <td>0</td>\n",
       "      <td>35.0</td>\n",
       "      <td>0</td>\n",
       "      <td>0</td>\n",
       "      <td>373450</td>\n",
       "      <td>8.0500</td>\n",
       "      <td>NaN</td>\n",
       "      <td>0.0</td>\n",
       "      <td>0</td>\n",
       "      <td>1</td>\n",
       "    </tr>\n",
       "  </tbody>\n",
       "</table>\n",
       "</div>"
      ],
      "text/plain": [
       "   PassengerId  Survived  Pclass  \\\n",
       "0            1       0.0       3   \n",
       "1            2       1.0       1   \n",
       "2            3       1.0       3   \n",
       "3            4       1.0       1   \n",
       "4            5       0.0       3   \n",
       "\n",
       "                                                Name  Sex   Age  SibSp  Parch  \\\n",
       "0                            Braund, Mr. Owen Harris    0  22.0      1      0   \n",
       "1  Cumings, Mrs. John Bradley (Florence Briggs Th...    1  38.0      1      0   \n",
       "2                             Heikkinen, Miss. Laina    1  26.0      0      0   \n",
       "3       Futrelle, Mrs. Jacques Heath (Lily May Peel)    1  35.0      1      0   \n",
       "4                           Allen, Mr. William Henry    0  35.0      0      0   \n",
       "\n",
       "             Ticket     Fare Cabin  Embarked  Family  Alone  \n",
       "0         A/5 21171   7.2500   NaN       0.0       1      0  \n",
       "1          PC 17599  71.2833   C85       1.0       1      0  \n",
       "2  STON/O2. 3101282   7.9250   NaN       0.0       0      1  \n",
       "3            113803  53.1000  C123       0.0       1      0  \n",
       "4            373450   8.0500   NaN       0.0       0      1  "
      ]
     },
     "execution_count": 47,
     "metadata": {},
     "output_type": "execute_result"
    }
   ],
   "source": [
    "data[\"Alone\"] = [1 if i == 0 else 0 for i in data[\"Family\"]]\n",
    "data[\"Family\"].replace([0,1,2,3,4,5,6,7,10], [0,1,1,1,0,2,0,2,2], inplace=True)\n",
    "data.head()"
   ]
  },
  {
   "cell_type": "markdown",
   "metadata": {
    "papermill": {
     "duration": 0.086985,
     "end_time": "2020-12-08T12:36:21.873320",
     "exception": false,
     "start_time": "2020-12-08T12:36:21.786335",
     "status": "completed"
    },
    "tags": []
   },
   "source": [
    "### Name - Title"
   ]
  },
  {
   "cell_type": "code",
   "execution_count": 48,
   "metadata": {
    "execution": {
     "iopub.execute_input": "2020-12-08T12:36:22.061567Z",
     "iopub.status.busy": "2020-12-08T12:36:22.060465Z",
     "iopub.status.idle": "2020-12-08T12:36:22.068569Z",
     "shell.execute_reply": "2020-12-08T12:36:22.067769Z"
    },
    "papermill": {
     "duration": 0.107646,
     "end_time": "2020-12-08T12:36:22.068701",
     "exception": false,
     "start_time": "2020-12-08T12:36:21.961055",
     "status": "completed"
    },
    "tags": []
   },
   "outputs": [],
   "source": [
    "data['Title']=data.Name.str.extract('([A-Za-z]+)\\.')"
   ]
  },
  {
   "cell_type": "code",
   "execution_count": 50,
   "metadata": {
    "execution": {
     "iopub.execute_input": "2020-12-08T12:36:22.253283Z",
     "iopub.status.busy": "2020-12-08T12:36:22.252097Z",
     "iopub.status.idle": "2020-12-08T12:36:22.494064Z",
     "shell.execute_reply": "2020-12-08T12:36:22.493210Z"
    },
    "papermill": {
     "duration": 0.33634,
     "end_time": "2020-12-08T12:36:22.494209",
     "exception": false,
     "start_time": "2020-12-08T12:36:22.157869",
     "status": "completed"
    },
    "tags": []
   },
   "outputs": [
    {
     "data": {
      "image/png": "[encoded data removed]",
      "text/plain": [
       "<Figure size 1200x600 with 1 Axes>"
      ]
     },
     "metadata": {},
     "output_type": "display_data"
    }
   ],
   "source": [
    "plt.figure(figsize=(12, 6))  # Adjust the figure size\n",
    "sns.countplot(data=data, x=\"Title\")\n",
    "plt.xticks(rotation=90)\n",
    "plt.show()"
   ]
  },
  {
   "cell_type": "code",
   "execution_count": 51,
   "metadata": {
    "execution": {
     "iopub.execute_input": "2020-12-08T12:36:22.685159Z",
     "iopub.status.busy": "2020-12-08T12:36:22.684180Z",
     "iopub.status.idle": "2020-12-08T12:36:22.688715Z",
     "shell.execute_reply": "2020-12-08T12:36:22.687908Z"
    },
    "papermill": {
     "duration": 0.104575,
     "end_time": "2020-12-08T12:36:22.688845",
     "exception": false,
     "start_time": "2020-12-08T12:36:22.584270",
     "status": "completed"
    },
    "tags": []
   },
   "outputs": [],
   "source": [
    "data['Title'].replace(['Mme','Ms','Mlle','Lady','Countess','Dona','Dr','Major','Sir','Capt','Don','Rev','Col', 'Jonkheer'],['Miss','Miss','Miss','Mrs','Mrs','Mrs','Mr','Mr','Mr','Mr','Mr','Other','Other','Other'], inplace=True)"
   ]
  },
  {
   "cell_type": "code",
   "execution_count": 53,
   "metadata": {
    "execution": {
     "iopub.execute_input": "2020-12-08T12:36:22.872008Z",
     "iopub.status.busy": "2020-12-08T12:36:22.871240Z",
     "iopub.status.idle": "2020-12-08T12:36:23.034908Z",
     "shell.execute_reply": "2020-12-08T12:36:23.034219Z"
    },
    "papermill": {
     "duration": 0.257891,
     "end_time": "2020-12-08T12:36:23.035067",
     "exception": false,
     "start_time": "2020-12-08T12:36:22.777176",
     "status": "completed"
    },
    "tags": []
   },
   "outputs": [
    {
     "data": {
      "image/png": "[encoded data removed]",
      "text/plain": [
       "<Figure size 1200x600 with 1 Axes>"
      ]
     },
     "metadata": {},
     "output_type": "display_data"
    }
   ],
   "source": [
    "plt.figure(figsize=(12, 6))  # Adjust the figure size\n",
    "sns.countplot(data=data, x=\"Title\")\n",
    "plt.show()"
   ]
  },
  {
   "cell_type": "code",
   "execution_count": 55,
   "metadata": {
    "execution": {
     "iopub.execute_input": "2020-12-08T12:36:23.243404Z",
     "iopub.status.busy": "2020-12-08T12:36:23.242275Z",
     "iopub.status.idle": "2020-12-08T12:36:23.625460Z",
     "shell.execute_reply": "2020-12-08T12:36:23.624591Z"
    },
    "papermill": {
     "duration": 0.486917,
     "end_time": "2020-12-08T12:36:23.625630",
     "exception": false,
     "start_time": "2020-12-08T12:36:23.138713",
     "status": "completed"
    },
    "tags": []
   },
   "outputs": [
    {
     "data": {
      "image/png": "[encoded data removed]",
      "text/plain": [
       "<Figure size 640x480 with 1 Axes>"
      ]
     },
     "metadata": {},
     "output_type": "display_data"
    }
   ],
   "source": [
    "sns.barplot(x=\"Title\", y =\"Survived\", data=data,palette=\"Set1\")\n",
    "plt.show()"
   ]
  },
  {
   "cell_type": "code",
   "execution_count": 56,
   "metadata": {
    "execution": {
     "iopub.execute_input": "2020-12-08T12:36:23.827707Z",
     "iopub.status.busy": "2020-12-08T12:36:23.825719Z",
     "iopub.status.idle": "2020-12-08T12:36:23.831269Z",
     "shell.execute_reply": "2020-12-08T12:36:23.830578Z"
    },
    "papermill": {
     "duration": 0.108518,
     "end_time": "2020-12-08T12:36:23.831405",
     "exception": false,
     "start_time": "2020-12-08T12:36:23.722887",
     "status": "completed"
    },
    "tags": []
   },
   "outputs": [],
   "source": [
    "data[\"Title\"].replace([\"Mr\",\"Mrs\",\"Miss\",\"Master\",\"Other\"], [1,2,2,3,1], inplace=True)\n"
   ]
  },
  {
   "cell_type": "markdown",
   "metadata": {
    "papermill": {
     "duration": 0.090579,
     "end_time": "2020-12-08T12:36:24.012756",
     "exception": false,
     "start_time": "2020-12-08T12:36:23.922177",
     "status": "completed"
    },
    "tags": []
   },
   "source": [
    "### Age Limit"
   ]
  },
  {
   "cell_type": "code",
   "execution_count": 57,
   "metadata": {
    "execution": {
     "iopub.execute_input": "2020-12-08T12:36:24.208674Z",
     "iopub.status.busy": "2020-12-08T12:36:24.207897Z",
     "iopub.status.idle": "2020-12-08T12:36:24.491157Z",
     "shell.execute_reply": "2020-12-08T12:36:24.490362Z"
    },
    "papermill": {
     "duration": 0.388267,
     "end_time": "2020-12-08T12:36:24.491288",
     "exception": false,
     "start_time": "2020-12-08T12:36:24.103021",
     "status": "completed"
    },
    "tags": []
   },
   "outputs": [
    {
     "data": {
      "text/html": [
       "<style type=\"text/css\">\n",
       "#T_7c0be_row0_col0 {\n",
       "  background-color: #008066;\n",
       "  color: #f1f1f1;\n",
       "}\n",
       "#T_7c0be_row1_col0 {\n",
       "  background-color: #76bb66;\n",
       "  color: #f1f1f1;\n",
       "}\n",
       "#T_7c0be_row2_col0 {\n",
       "  background-color: #4ca666;\n",
       "  color: #f1f1f1;\n",
       "}\n",
       "#T_7c0be_row3_col0 {\n",
       "  background-color: #40a066;\n",
       "  color: #f1f1f1;\n",
       "}\n",
       "#T_7c0be_row4_col0 {\n",
       "  background-color: #ffff66;\n",
       "  color: #000000;\n",
       "}\n",
       "</style>\n",
       "<table id=\"T_7c0be\">\n",
       "  <thead>\n",
       "    <tr>\n",
       "      <th class=\"blank level0\" >&nbsp;</th>\n",
       "      <th id=\"T_7c0be_level0_col0\" class=\"col_heading level0 col0\" >Survived</th>\n",
       "    </tr>\n",
       "    <tr>\n",
       "      <th class=\"index_name level0\" >Age_Limit</th>\n",
       "      <th class=\"blank col0\" >&nbsp;</th>\n",
       "    </tr>\n",
       "  </thead>\n",
       "  <tbody>\n",
       "    <tr>\n",
       "      <th id=\"T_7c0be_level0_row0\" class=\"row_heading level0 row0\" >(0.0902, 16.136]</th>\n",
       "      <td id=\"T_7c0be_row0_col0\" class=\"data row0 col0\" >0.550000</td>\n",
       "    </tr>\n",
       "    <tr>\n",
       "      <th id=\"T_7c0be_level0_row1\" class=\"row_heading level0 row1\" >(16.136, 32.102]</th>\n",
       "      <td id=\"T_7c0be_row1_col0\" class=\"data row1 col0\" >0.336714</td>\n",
       "    </tr>\n",
       "    <tr>\n",
       "      <th id=\"T_7c0be_level0_row2\" class=\"row_heading level0 row2\" >(32.102, 48.068]</th>\n",
       "      <td id=\"T_7c0be_row2_col0\" class=\"data row2 col0\" >0.412844</td>\n",
       "    </tr>\n",
       "    <tr>\n",
       "      <th id=\"T_7c0be_level0_row3\" class=\"row_heading level0 row3\" >(48.068, 64.034]</th>\n",
       "      <td id=\"T_7c0be_row3_col0\" class=\"data row3 col0\" >0.434783</td>\n",
       "    </tr>\n",
       "    <tr>\n",
       "      <th id=\"T_7c0be_level0_row4\" class=\"row_heading level0 row4\" >(64.034, 80.0]</th>\n",
       "      <td id=\"T_7c0be_row4_col0\" class=\"data row4 col0\" >0.090909</td>\n",
       "    </tr>\n",
       "  </tbody>\n",
       "</table>\n"
      ],
      "text/plain": [
       "<pandas.io.formats.style.Styler at 0x220fd22d250>"
      ]
     },
     "execution_count": 57,
     "metadata": {},
     "output_type": "execute_result"
    }
   ],
   "source": [
    "data['Age_Limit']=pd.cut(data['Age'], 5)\n",
    "data.groupby(['Age_Limit'])['Survived'].mean().to_frame().style.background_gradient(cmap='summer_r')"
   ]
  },
  {
   "cell_type": "code",
   "execution_count": 58,
   "metadata": {
    "execution": {
     "iopub.execute_input": "2020-12-08T12:36:24.691949Z",
     "iopub.status.busy": "2020-12-08T12:36:24.680413Z",
     "iopub.status.idle": "2020-12-08T12:36:24.695362Z",
     "shell.execute_reply": "2020-12-08T12:36:24.694610Z"
    },
    "papermill": {
     "duration": 0.112777,
     "end_time": "2020-12-08T12:36:24.695498",
     "exception": false,
     "start_time": "2020-12-08T12:36:24.582721",
     "status": "completed"
    },
    "tags": []
   },
   "outputs": [],
   "source": [
    "data['Age_Limit'] = LabelEncoder().fit_transform(data['Age_Limit'])\n"
   ]
  },
  {
   "cell_type": "markdown",
   "metadata": {
    "papermill": {
     "duration": 0.091322,
     "end_time": "2020-12-08T12:36:24.881554",
     "exception": false,
     "start_time": "2020-12-08T12:36:24.790232",
     "status": "completed"
    },
    "tags": []
   },
   "source": [
    "### Fare Limit"
   ]
  },
  {
   "cell_type": "code",
   "execution_count": 59,
   "metadata": {
    "execution": {
     "iopub.execute_input": "2020-12-08T12:36:25.077251Z",
     "iopub.status.busy": "2020-12-08T12:36:25.074428Z",
     "iopub.status.idle": "2020-12-08T12:36:25.097695Z",
     "shell.execute_reply": "2020-12-08T12:36:25.097096Z"
    },
    "papermill": {
     "duration": 0.124985,
     "end_time": "2020-12-08T12:36:25.097831",
     "exception": false,
     "start_time": "2020-12-08T12:36:24.972846",
     "status": "completed"
    },
    "tags": []
   },
   "outputs": [
    {
     "data": {
      "text/html": [
       "<style type=\"text/css\">\n",
       "#T_7a4f7_row0_col0 {\n",
       "  background-color: #ffff66;\n",
       "  color: #000000;\n",
       "}\n",
       "#T_7a4f7_row1_col0 {\n",
       "  background-color: #bcde66;\n",
       "  color: #000000;\n",
       "}\n",
       "#T_7a4f7_row2_col0 {\n",
       "  background-color: #65b266;\n",
       "  color: #f1f1f1;\n",
       "}\n",
       "#T_7a4f7_row3_col0 {\n",
       "  background-color: #008066;\n",
       "  color: #f1f1f1;\n",
       "}\n",
       "</style>\n",
       "<table id=\"T_7a4f7\">\n",
       "  <thead>\n",
       "    <tr>\n",
       "      <th class=\"blank level0\" >&nbsp;</th>\n",
       "      <th id=\"T_7a4f7_level0_col0\" class=\"col_heading level0 col0\" >Survived</th>\n",
       "    </tr>\n",
       "    <tr>\n",
       "      <th class=\"index_name level0\" >Fare_Limit</th>\n",
       "      <th class=\"blank col0\" >&nbsp;</th>\n",
       "    </tr>\n",
       "  </thead>\n",
       "  <tbody>\n",
       "    <tr>\n",
       "      <th id=\"T_7a4f7_level0_row0\" class=\"row_heading level0 row0\" >(-0.001, 7.896]</th>\n",
       "      <td id=\"T_7a4f7_row0_col0\" class=\"data row0 col0\" >0.197309</td>\n",
       "    </tr>\n",
       "    <tr>\n",
       "      <th id=\"T_7a4f7_level0_row1\" class=\"row_heading level0 row1\" >(7.896, 14.454]</th>\n",
       "      <td id=\"T_7a4f7_row1_col0\" class=\"data row1 col0\" >0.303571</td>\n",
       "    </tr>\n",
       "    <tr>\n",
       "      <th id=\"T_7a4f7_level0_row2\" class=\"row_heading level0 row2\" >(14.454, 31.275]</th>\n",
       "      <td id=\"T_7a4f7_row2_col0\" class=\"data row2 col0\" >0.441048</td>\n",
       "    </tr>\n",
       "    <tr>\n",
       "      <th id=\"T_7a4f7_level0_row3\" class=\"row_heading level0 row3\" >(31.275, 512.329]</th>\n",
       "      <td id=\"T_7a4f7_row3_col0\" class=\"data row3 col0\" >0.600000</td>\n",
       "    </tr>\n",
       "  </tbody>\n",
       "</table>\n"
      ],
      "text/plain": [
       "<pandas.io.formats.style.Styler at 0x220fefd8fd0>"
      ]
     },
     "execution_count": 59,
     "metadata": {},
     "output_type": "execute_result"
    }
   ],
   "source": [
    "data['Fare_Limit']=pd.qcut(data['Fare'],4)\n",
    "data.groupby(['Fare_Limit'])['Survived'].mean().to_frame().style.background_gradient(cmap='summer_r')"
   ]
  },
  {
   "cell_type": "code",
   "execution_count": 60,
   "metadata": {
    "execution": {
     "iopub.execute_input": "2020-12-08T12:36:25.302137Z",
     "iopub.status.busy": "2020-12-08T12:36:25.301322Z",
     "iopub.status.idle": "2020-12-08T12:36:25.304746Z",
     "shell.execute_reply": "2020-12-08T12:36:25.304104Z"
    },
    "papermill": {
     "duration": 0.113037,
     "end_time": "2020-12-08T12:36:25.304881",
     "exception": false,
     "start_time": "2020-12-08T12:36:25.191844",
     "status": "completed"
    },
    "tags": []
   },
   "outputs": [],
   "source": [
    "data['Fare_Limit'] = LabelEncoder().fit_transform(data['Fare_Limit'])\n"
   ]
  },
  {
   "cell_type": "code",
   "execution_count": 61,
   "metadata": {
    "execution": {
     "iopub.execute_input": "2020-12-08T12:36:25.505830Z",
     "iopub.status.busy": "2020-12-08T12:36:25.497315Z",
     "iopub.status.idle": "2020-12-08T12:36:25.827832Z",
     "shell.execute_reply": "2020-12-08T12:36:25.827166Z"
    },
    "papermill": {
     "duration": 0.430243,
     "end_time": "2020-12-08T12:36:25.827958",
     "exception": false,
     "start_time": "2020-12-08T12:36:25.397715",
     "status": "completed"
    },
    "tags": []
   },
   "outputs": [
    {
     "data": {
      "image/png": "[encoded data removed]",
      "text/plain": [
       "<Figure size 640x480 with 1 Axes>"
      ]
     },
     "metadata": {},
     "output_type": "display_data"
    }
   ],
   "source": [
    "sns.barplot(x=\"Fare_Limit\", y =\"Survived\", data=data)\n",
    "plt.show()"
   ]
  },
  {
   "cell_type": "markdown",
   "metadata": {
    "papermill": {
     "duration": 0.095028,
     "end_time": "2020-12-08T12:36:26.016935",
     "exception": false,
     "start_time": "2020-12-08T12:36:25.921907",
     "status": "completed"
    },
    "tags": []
   },
   "source": [
    "### Correlation Matrix"
   ]
  },
  {
   "cell_type": "code",
   "execution_count": 62,
   "metadata": {
    "execution": {
     "iopub.execute_input": "2020-12-08T12:36:26.213087Z",
     "iopub.status.busy": "2020-12-08T12:36:26.212314Z",
     "iopub.status.idle": "2020-12-08T12:36:26.750539Z",
     "shell.execute_reply": "2020-12-08T12:36:26.749889Z"
    },
    "papermill": {
     "duration": 0.640305,
     "end_time": "2020-12-08T12:36:26.750667",
     "exception": false,
     "start_time": "2020-12-08T12:36:26.110362",
     "status": "completed"
    },
    "tags": []
   },
   "outputs": [
    {
     "data": {
      "image/png": "[encoded data removed]",
      "text/plain": [
       "<Figure size 640x480 with 2 Axes>"
      ]
     },
     "metadata": {},
     "output_type": "display_data"
    }
   ],
   "source": [
    "sns.heatmap(data[[\"Cabin\",\"Pclass\",\"Embarked\",\"Sex\",\"Age\",\"Age_Limit\",\"Fare_Limit\", \"Title\",\"Family\", \"Survived\"]].corr(), annot = True)\n",
    "plt.show()"
   ]
  },
  {
   "cell_type": "markdown",
   "metadata": {
    "papermill": {
     "duration": 0.097836,
     "end_time": "2020-12-08T12:36:26.944816",
     "exception": false,
     "start_time": "2020-12-08T12:36:26.846980",
     "status": "completed"
    },
    "tags": []
   },
   "source": [
    "<a id='13'></a><br>\n",
    "## 2- Drop Features\n",
    "* Ticket, Cabin, Name, PassengerId and Age are deleted according to the result of the correlation matrix."
   ]
  },
  {
   "cell_type": "code",
   "execution_count": 63,
   "metadata": {
    "execution": {
     "iopub.execute_input": "2020-12-08T12:36:27.151520Z",
     "iopub.status.busy": "2020-12-08T12:36:27.150659Z",
     "iopub.status.idle": "2020-12-08T12:36:27.167431Z",
     "shell.execute_reply": "2020-12-08T12:36:27.166635Z"
    },
    "papermill": {
     "duration": 0.125328,
     "end_time": "2020-12-08T12:36:27.167568",
     "exception": false,
     "start_time": "2020-12-08T12:36:27.042240",
     "status": "completed"
    },
    "tags": []
   },
   "outputs": [
    {
     "data": {
      "text/html": [
       "<div>\n",
       "<style scoped>\n",
       "    .dataframe tbody tr th:only-of-type {\n",
       "        vertical-align: middle;\n",
       "    }\n",
       "\n",
       "    .dataframe tbody tr th {\n",
       "        vertical-align: top;\n",
       "    }\n",
       "\n",
       "    .dataframe thead th {\n",
       "        text-align: right;\n",
       "    }\n",
       "</style>\n",
       "<table border=\"1\" class=\"dataframe\">\n",
       "  <thead>\n",
       "    <tr style=\"text-align: right;\">\n",
       "      <th></th>\n",
       "      <th>Survived</th>\n",
       "      <th>Pclass</th>\n",
       "      <th>Sex</th>\n",
       "      <th>Embarked</th>\n",
       "      <th>Family</th>\n",
       "      <th>Alone</th>\n",
       "      <th>Title</th>\n",
       "      <th>Age_Limit</th>\n",
       "      <th>Fare_Limit</th>\n",
       "    </tr>\n",
       "  </thead>\n",
       "  <tbody>\n",
       "    <tr>\n",
       "      <th>0</th>\n",
       "      <td>0.0</td>\n",
       "      <td>3</td>\n",
       "      <td>0</td>\n",
       "      <td>0.0</td>\n",
       "      <td>1</td>\n",
       "      <td>0</td>\n",
       "      <td>1</td>\n",
       "      <td>1</td>\n",
       "      <td>0</td>\n",
       "    </tr>\n",
       "    <tr>\n",
       "      <th>1</th>\n",
       "      <td>1.0</td>\n",
       "      <td>1</td>\n",
       "      <td>1</td>\n",
       "      <td>1.0</td>\n",
       "      <td>1</td>\n",
       "      <td>0</td>\n",
       "      <td>2</td>\n",
       "      <td>2</td>\n",
       "      <td>3</td>\n",
       "    </tr>\n",
       "    <tr>\n",
       "      <th>2</th>\n",
       "      <td>1.0</td>\n",
       "      <td>3</td>\n",
       "      <td>1</td>\n",
       "      <td>0.0</td>\n",
       "      <td>0</td>\n",
       "      <td>1</td>\n",
       "      <td>2</td>\n",
       "      <td>1</td>\n",
       "      <td>1</td>\n",
       "    </tr>\n",
       "    <tr>\n",
       "      <th>3</th>\n",
       "      <td>1.0</td>\n",
       "      <td>1</td>\n",
       "      <td>1</td>\n",
       "      <td>0.0</td>\n",
       "      <td>1</td>\n",
       "      <td>0</td>\n",
       "      <td>2</td>\n",
       "      <td>2</td>\n",
       "      <td>3</td>\n",
       "    </tr>\n",
       "    <tr>\n",
       "      <th>4</th>\n",
       "      <td>0.0</td>\n",
       "      <td>3</td>\n",
       "      <td>0</td>\n",
       "      <td>0.0</td>\n",
       "      <td>0</td>\n",
       "      <td>1</td>\n",
       "      <td>1</td>\n",
       "      <td>2</td>\n",
       "      <td>1</td>\n",
       "    </tr>\n",
       "  </tbody>\n",
       "</table>\n",
       "</div>"
      ],
      "text/plain": [
       "   Survived  Pclass  Sex  Embarked  Family  Alone  Title  Age_Limit  \\\n",
       "0       0.0       3    0       0.0       1      0      1          1   \n",
       "1       1.0       1    1       1.0       1      0      2          2   \n",
       "2       1.0       3    1       0.0       0      1      2          1   \n",
       "3       1.0       1    1       0.0       1      0      2          2   \n",
       "4       0.0       3    0       0.0       0      1      1          2   \n",
       "\n",
       "   Fare_Limit  \n",
       "0           0  \n",
       "1           3  \n",
       "2           1  \n",
       "3           3  \n",
       "4           1  "
      ]
     },
     "execution_count": 63,
     "metadata": {},
     "output_type": "execute_result"
    }
   ],
   "source": [
    "data['Age']=data['Age'].astype(int)\n",
    "\n",
    "data.drop(labels=[\"SibSp\",\"Parch\",\"Cabin\",\"Fare\",\"Age\", \"Ticket\", \"Name\", \"PassengerId\"], axis=1, inplace = True)\n",
    "data.head()"
   ]
  },
  {
   "cell_type": "markdown",
   "metadata": {
    "papermill": {
     "duration": 0.096445,
     "end_time": "2020-12-08T12:36:27.361180",
     "exception": false,
     "start_time": "2020-12-08T12:36:27.264735",
     "status": "completed"
    },
    "tags": []
   },
   "source": [
    "<a id='14'></a><br>\n",
    "## 3 - One Hot Encoding"
   ]
  },
  {
   "cell_type": "code",
   "execution_count": 64,
   "metadata": {
    "execution": {
     "iopub.execute_input": "2020-12-08T12:36:27.570077Z",
     "iopub.status.busy": "2020-12-08T12:36:27.569265Z",
     "iopub.status.idle": "2020-12-08T12:36:27.609889Z",
     "shell.execute_reply": "2020-12-08T12:36:27.609281Z"
    },
    "papermill": {
     "duration": 0.152009,
     "end_time": "2020-12-08T12:36:27.610019",
     "exception": false,
     "start_time": "2020-12-08T12:36:27.458010",
     "status": "completed"
    },
    "tags": []
   },
   "outputs": [
    {
     "data": {
      "text/html": [
       "<div>\n",
       "<style scoped>\n",
       "    .dataframe tbody tr th:only-of-type {\n",
       "        vertical-align: middle;\n",
       "    }\n",
       "\n",
       "    .dataframe tbody tr th {\n",
       "        vertical-align: top;\n",
       "    }\n",
       "\n",
       "    .dataframe thead th {\n",
       "        text-align: right;\n",
       "    }\n",
       "</style>\n",
       "<table border=\"1\" class=\"dataframe\">\n",
       "  <thead>\n",
       "    <tr style=\"text-align: right;\">\n",
       "      <th></th>\n",
       "      <th>Survived</th>\n",
       "      <th>Sex</th>\n",
       "      <th>Alone</th>\n",
       "      <th>Pclass_1</th>\n",
       "      <th>Pclass_2</th>\n",
       "      <th>Pclass_3</th>\n",
       "      <th>Embarked_0.0</th>\n",
       "      <th>Embarked_1.0</th>\n",
       "      <th>Embarked_2.0</th>\n",
       "      <th>Family_0</th>\n",
       "      <th>...</th>\n",
       "      <th>Age_Limit_2</th>\n",
       "      <th>Age_Limit_3</th>\n",
       "      <th>Age_Limit_4</th>\n",
       "      <th>Fare_Limit_0</th>\n",
       "      <th>Fare_Limit_1</th>\n",
       "      <th>Fare_Limit_2</th>\n",
       "      <th>Fare_Limit_3</th>\n",
       "      <th>Title_1</th>\n",
       "      <th>Title_2</th>\n",
       "      <th>Title_3</th>\n",
       "    </tr>\n",
       "  </thead>\n",
       "  <tbody>\n",
       "    <tr>\n",
       "      <th>0</th>\n",
       "      <td>0.0</td>\n",
       "      <td>0</td>\n",
       "      <td>0</td>\n",
       "      <td>0</td>\n",
       "      <td>0</td>\n",
       "      <td>1</td>\n",
       "      <td>1</td>\n",
       "      <td>0</td>\n",
       "      <td>0</td>\n",
       "      <td>0</td>\n",
       "      <td>...</td>\n",
       "      <td>0</td>\n",
       "      <td>0</td>\n",
       "      <td>0</td>\n",
       "      <td>1</td>\n",
       "      <td>0</td>\n",
       "      <td>0</td>\n",
       "      <td>0</td>\n",
       "      <td>1</td>\n",
       "      <td>0</td>\n",
       "      <td>0</td>\n",
       "    </tr>\n",
       "    <tr>\n",
       "      <th>1</th>\n",
       "      <td>1.0</td>\n",
       "      <td>1</td>\n",
       "      <td>0</td>\n",
       "      <td>1</td>\n",
       "      <td>0</td>\n",
       "      <td>0</td>\n",
       "      <td>0</td>\n",
       "      <td>1</td>\n",
       "      <td>0</td>\n",
       "      <td>0</td>\n",
       "      <td>...</td>\n",
       "      <td>1</td>\n",
       "      <td>0</td>\n",
       "      <td>0</td>\n",
       "      <td>0</td>\n",
       "      <td>0</td>\n",
       "      <td>0</td>\n",
       "      <td>1</td>\n",
       "      <td>0</td>\n",
       "      <td>1</td>\n",
       "      <td>0</td>\n",
       "    </tr>\n",
       "    <tr>\n",
       "      <th>2</th>\n",
       "      <td>1.0</td>\n",
       "      <td>1</td>\n",
       "      <td>1</td>\n",
       "      <td>0</td>\n",
       "      <td>0</td>\n",
       "      <td>1</td>\n",
       "      <td>1</td>\n",
       "      <td>0</td>\n",
       "      <td>0</td>\n",
       "      <td>1</td>\n",
       "      <td>...</td>\n",
       "      <td>0</td>\n",
       "      <td>0</td>\n",
       "      <td>0</td>\n",
       "      <td>0</td>\n",
       "      <td>1</td>\n",
       "      <td>0</td>\n",
       "      <td>0</td>\n",
       "      <td>0</td>\n",
       "      <td>1</td>\n",
       "      <td>0</td>\n",
       "    </tr>\n",
       "    <tr>\n",
       "      <th>3</th>\n",
       "      <td>1.0</td>\n",
       "      <td>1</td>\n",
       "      <td>0</td>\n",
       "      <td>1</td>\n",
       "      <td>0</td>\n",
       "      <td>0</td>\n",
       "      <td>1</td>\n",
       "      <td>0</td>\n",
       "      <td>0</td>\n",
       "      <td>0</td>\n",
       "      <td>...</td>\n",
       "      <td>1</td>\n",
       "      <td>0</td>\n",
       "      <td>0</td>\n",
       "      <td>0</td>\n",
       "      <td>0</td>\n",
       "      <td>0</td>\n",
       "      <td>1</td>\n",
       "      <td>0</td>\n",
       "      <td>1</td>\n",
       "      <td>0</td>\n",
       "    </tr>\n",
       "    <tr>\n",
       "      <th>4</th>\n",
       "      <td>0.0</td>\n",
       "      <td>0</td>\n",
       "      <td>1</td>\n",
       "      <td>0</td>\n",
       "      <td>0</td>\n",
       "      <td>1</td>\n",
       "      <td>1</td>\n",
       "      <td>0</td>\n",
       "      <td>0</td>\n",
       "      <td>1</td>\n",
       "      <td>...</td>\n",
       "      <td>1</td>\n",
       "      <td>0</td>\n",
       "      <td>0</td>\n",
       "      <td>0</td>\n",
       "      <td>1</td>\n",
       "      <td>0</td>\n",
       "      <td>0</td>\n",
       "      <td>1</td>\n",
       "      <td>0</td>\n",
       "      <td>0</td>\n",
       "    </tr>\n",
       "  </tbody>\n",
       "</table>\n",
       "<p>5 rows × 24 columns</p>\n",
       "</div>"
      ],
      "text/plain": [
       "   Survived  Sex  Alone  Pclass_1  Pclass_2  Pclass_3  Embarked_0.0  \\\n",
       "0       0.0    0      0         0         0         1             1   \n",
       "1       1.0    1      0         1         0         0             0   \n",
       "2       1.0    1      1         0         0         1             1   \n",
       "3       1.0    1      0         1         0         0             1   \n",
       "4       0.0    0      1         0         0         1             1   \n",
       "\n",
       "   Embarked_1.0  Embarked_2.0  Family_0  ...  Age_Limit_2  Age_Limit_3  \\\n",
       "0             0             0         0  ...            0            0   \n",
       "1             1             0         0  ...            1            0   \n",
       "2             0             0         1  ...            0            0   \n",
       "3             0             0         0  ...            1            0   \n",
       "4             0             0         1  ...            1            0   \n",
       "\n",
       "   Age_Limit_4  Fare_Limit_0  Fare_Limit_1  Fare_Limit_2  Fare_Limit_3  \\\n",
       "0            0             1             0             0             0   \n",
       "1            0             0             0             0             1   \n",
       "2            0             0             1             0             0   \n",
       "3            0             0             0             0             1   \n",
       "4            0             0             1             0             0   \n",
       "\n",
       "   Title_1  Title_2  Title_3  \n",
       "0        1        0        0  \n",
       "1        0        1        0  \n",
       "2        0        1        0  \n",
       "3        0        1        0  \n",
       "4        1        0        0  \n",
       "\n",
       "[5 rows x 24 columns]"
      ]
     },
     "execution_count": 64,
     "metadata": {},
     "output_type": "execute_result"
    }
   ],
   "source": [
    "data = pd.get_dummies(data,columns=[\"Pclass\"])\n",
    "data = pd.get_dummies(data,columns=[\"Embarked\"])\n",
    "data = pd.get_dummies(data,columns=[\"Family\"])\n",
    "data = pd.get_dummies(data,columns=[\"Age_Limit\"])\n",
    "data = pd.get_dummies(data,columns=[\"Fare_Limit\"])\n",
    "data = pd.get_dummies(data,columns=[\"Title\"])\n",
    "\n",
    "data.head()"
   ]
  },
  {
   "cell_type": "markdown",
   "metadata": {
    "papermill": {
     "duration": 0.098097,
     "end_time": "2020-12-08T12:36:27.806732",
     "exception": false,
     "start_time": "2020-12-08T12:36:27.708635",
     "status": "completed"
    },
    "tags": []
   },
   "source": [
    "<a id='16'></a><br>\n",
    "# Chapter:5 Modeling"
   ]
  },
  {
   "cell_type": "code",
   "execution_count": 1,
   "metadata": {
    "execution": {
     "iopub.execute_input": "2020-12-08T12:36:28.008955Z",
     "iopub.status.busy": "2020-12-08T12:36:28.008009Z",
     "iopub.status.idle": "2020-12-08T12:36:28.309515Z",
     "shell.execute_reply": "2020-12-08T12:36:28.308697Z"
    },
    "papermill": {
     "duration": 0.405766,
     "end_time": "2020-12-08T12:36:28.309643",
     "exception": false,
     "start_time": "2020-12-08T12:36:27.903877",
     "status": "completed"
    },
    "tags": []
   },
   "outputs": [],
   "source": [
    "from sklearn.model_selection import train_test_split\n",
    "\n",
    "from sklearn.linear_model import LogisticRegression\n",
    "from sklearn.ensemble import RandomForestClassifier, VotingClassifier\n",
    "from sklearn.svm import SVC"
   ]
  },
  {
   "cell_type": "markdown",
   "metadata": {
    "papermill": {
     "duration": 0.097063,
     "end_time": "2020-12-08T12:36:28.504176",
     "exception": false,
     "start_time": "2020-12-08T12:36:28.407113",
     "status": "completed"
    },
    "tags": []
   },
   "source": [
    "<a id='17'></a><br>\n",
    "## 1-Train Test Split"
   ]
  },
  {
   "cell_type": "code",
   "execution_count": 66,
   "metadata": {
    "execution": {
     "iopub.execute_input": "2020-12-08T12:36:28.704655Z",
     "iopub.status.busy": "2020-12-08T12:36:28.703698Z",
     "iopub.status.idle": "2020-12-08T12:36:28.707137Z",
     "shell.execute_reply": "2020-12-08T12:36:28.707719Z"
    },
    "papermill": {
     "duration": 0.106666,
     "end_time": "2020-12-08T12:36:28.707873",
     "exception": false,
     "start_time": "2020-12-08T12:36:28.601207",
     "status": "completed"
    },
    "tags": []
   },
   "outputs": [
    {
     "name": "stdout",
     "output_type": "stream",
     "text": [
      "success\n"
     ]
    }
   ],
   "source": [
    "if len(data) == (len(train_data) + len(test_data)):\n",
    "    print(\"success\")"
   ]
  },
  {
   "cell_type": "code",
   "execution_count": 67,
   "metadata": {
    "execution": {
     "iopub.execute_input": "2020-12-08T12:36:28.914215Z",
     "iopub.status.busy": "2020-12-08T12:36:28.912893Z",
     "iopub.status.idle": "2020-12-08T12:36:28.917694Z",
     "shell.execute_reply": "2020-12-08T12:36:28.916923Z"
    },
    "papermill": {
     "duration": 0.109907,
     "end_time": "2020-12-08T12:36:28.917820",
     "exception": false,
     "start_time": "2020-12-08T12:36:28.807913",
     "status": "completed"
    },
    "tags": []
   },
   "outputs": [],
   "source": [
    "test = data[len(train_data):]\n",
    "test.drop(labels=\"Survived\", axis=1, inplace=True)"
   ]
  },
  {
   "cell_type": "code",
   "execution_count": 68,
   "metadata": {
    "execution": {
     "iopub.execute_input": "2020-12-08T12:36:29.126596Z",
     "iopub.status.busy": "2020-12-08T12:36:29.124941Z",
     "iopub.status.idle": "2020-12-08T12:36:29.131957Z",
     "shell.execute_reply": "2020-12-08T12:36:29.131200Z"
    },
    "papermill": {
     "duration": 0.11485,
     "end_time": "2020-12-08T12:36:29.132102",
     "exception": false,
     "start_time": "2020-12-08T12:36:29.017252",
     "status": "completed"
    },
    "tags": []
   },
   "outputs": [],
   "source": [
    "train = data[:len(train_data)]\n",
    "X_train = train.drop(labels = \"Survived\", axis=1)\n",
    "y_train = train[\"Survived\"]\n",
    "X_train, X_test, y_train, y_test = train_test_split(X_train, y_train, test_size=0.3, random_state=42)\n"
   ]
  },
  {
   "cell_type": "markdown",
   "metadata": {
    "papermill": {
     "duration": 0.099336,
     "end_time": "2020-12-08T12:36:29.330872",
     "exception": false,
     "start_time": "2020-12-08T12:36:29.231536",
     "status": "completed"
    },
    "tags": []
   },
   "source": [
    "<a id='18'></a><br>\n",
    "## 2-Classificaiton Methods\n",
    "\n",
    "\n",
    "* Logistic Regression\n",
    "* Random Forest Regression\n",
    "* Support Vector Machine (SVM)"
   ]
  },
  {
   "cell_type": "markdown",
   "metadata": {
    "papermill": {
     "duration": 0.097418,
     "end_time": "2020-12-08T12:36:29.526998",
     "exception": false,
     "start_time": "2020-12-08T12:36:29.429580",
     "status": "completed"
    },
    "tags": []
   },
   "source": [
    "### Logistic Regression"
   ]
  },
  {
   "cell_type": "code",
   "execution_count": 69,
   "metadata": {
    "execution": {
     "iopub.execute_input": "2020-12-08T12:36:29.733000Z",
     "iopub.status.busy": "2020-12-08T12:36:29.732237Z",
     "iopub.status.idle": "2020-12-08T12:36:29.764064Z",
     "shell.execute_reply": "2020-12-08T12:36:29.763425Z"
    },
    "papermill": {
     "duration": 0.138768,
     "end_time": "2020-12-08T12:36:29.764205",
     "exception": false,
     "start_time": "2020-12-08T12:36:29.625437",
     "status": "completed"
    },
    "tags": []
   },
   "outputs": [
    {
     "name": "stdout",
     "output_type": "stream",
     "text": [
      "Accuracy:  0.8134328358208955\n"
     ]
    }
   ],
   "source": [
    "log_reg = LogisticRegression(random_state=42)\n",
    "log_reg.fit(X_train, y_train)\n",
    "print(\"Accuracy: \", log_reg.score(X_test,y_test))"
   ]
  },
  {
   "cell_type": "markdown",
   "metadata": {
    "papermill": {
     "duration": 0.099187,
     "end_time": "2020-12-08T12:36:29.963482",
     "exception": false,
     "start_time": "2020-12-08T12:36:29.864295",
     "status": "completed"
    },
    "tags": []
   },
   "source": [
    "### Random Forest Regression"
   ]
  },
  {
   "cell_type": "code",
   "execution_count": 70,
   "metadata": {
    "execution": {
     "iopub.execute_input": "2020-12-08T12:36:30.175538Z",
     "iopub.status.busy": "2020-12-08T12:36:30.174676Z",
     "iopub.status.idle": "2020-12-08T12:36:30.454305Z",
     "shell.execute_reply": "2020-12-08T12:36:30.453454Z"
    },
    "papermill": {
     "duration": 0.389078,
     "end_time": "2020-12-08T12:36:30.454481",
     "exception": false,
     "start_time": "2020-12-08T12:36:30.065403",
     "status": "completed"
    },
    "tags": []
   },
   "outputs": [
    {
     "name": "stdout",
     "output_type": "stream",
     "text": [
      "Accuracy:  0.8134328358208955\n"
     ]
    }
   ],
   "source": [
    "rf_reg = RandomForestClassifier(random_state=42)\n",
    "rf_reg.fit(X_train, y_train)\n",
    "print(\"Accuracy: \", rf_reg.score(X_test,y_test))"
   ]
  },
  {
   "cell_type": "markdown",
   "metadata": {
    "papermill": {
     "duration": 0.098865,
     "end_time": "2020-12-08T12:36:30.653378",
     "exception": false,
     "start_time": "2020-12-08T12:36:30.554513",
     "status": "completed"
    },
    "tags": []
   },
   "source": [
    "### Support Vector Machine (SVM)"
   ]
  },
  {
   "cell_type": "code",
   "execution_count": 71,
   "metadata": {
    "execution": {
     "iopub.execute_input": "2020-12-08T12:36:30.860468Z",
     "iopub.status.busy": "2020-12-08T12:36:30.859628Z",
     "iopub.status.idle": "2020-12-08T12:36:30.887324Z",
     "shell.execute_reply": "2020-12-08T12:36:30.888176Z"
    },
    "papermill": {
     "duration": 0.136175,
     "end_time": "2020-12-08T12:36:30.888379",
     "exception": false,
     "start_time": "2020-12-08T12:36:30.752204",
     "status": "completed"
    },
    "tags": []
   },
   "outputs": [
    {
     "name": "stdout",
     "output_type": "stream",
     "text": [
      "Accuracy:  0.8208955223880597\n"
     ]
    }
   ],
   "source": [
    "svm_clsf = SVC()\n",
    "svm_clsf.fit(X_train, y_train)\n",
    "print(\"Accuracy: \", svm_clsf.score(X_test,y_test))"
   ]
  },
  {
   "cell_type": "markdown",
   "metadata": {
    "papermill": {
     "duration": 0.102907,
     "end_time": "2020-12-08T12:36:32.032963",
     "exception": false,
     "start_time": "2020-12-08T12:36:31.930056",
     "status": "completed"
    },
    "tags": []
   },
   "source": [
    "<a id='19'></a><br>\n",
    "## 3- Ensemble Modeling"
   ]
  },
  {
   "cell_type": "code",
   "execution_count": 78,
   "metadata": {
    "execution": {
     "iopub.execute_input": "2020-12-08T12:36:32.246736Z",
     "iopub.status.busy": "2020-12-08T12:36:32.245528Z",
     "iopub.status.idle": "2020-12-08T12:36:34.968145Z",
     "shell.execute_reply": "2020-12-08T12:36:34.968711Z"
    },
    "papermill": {
     "duration": 2.833631,
     "end_time": "2020-12-08T12:36:34.968889",
     "exception": false,
     "start_time": "2020-12-08T12:36:32.135258",
     "status": "completed"
    },
    "tags": []
   },
   "outputs": [
    {
     "name": "stdout",
     "output_type": "stream",
     "text": [
      "Accuracy:  0.8134328358208955\n"
     ]
    }
   ],
   "source": [
    "voting_classfication = VotingClassifier(estimators = [('lg', log_reg), ('rfg', rf_reg), ('svc', svm_clsf)], voting=\"hard\", n_jobs=-1)\n",
    "voting_classfication.fit(X_train, y_train)\n",
    "print(\"Accuracy: \", voting_classfication.score(X_test,y_test))"
   ]
  },
  {
   "cell_type": "markdown",
   "metadata": {
    "papermill": {
     "duration": 0.102529,
     "end_time": "2020-12-08T12:36:35.173787",
     "exception": false,
     "start_time": "2020-12-08T12:36:35.071258",
     "status": "completed"
    },
    "tags": []
   },
   "source": [
    "<a id='20'></a><br>\n",
    "## Result\n",
    "\n",
    "We choose the ensemble model because it works best."
   ]
  },
  {
   "cell_type": "code",
   "execution_count": 79,
   "metadata": {
    "execution": {
     "iopub.execute_input": "2020-12-08T12:36:35.388886Z",
     "iopub.status.busy": "2020-12-08T12:36:35.387838Z",
     "iopub.status.idle": "2020-12-08T12:36:35.782341Z",
     "shell.execute_reply": "2020-12-08T12:36:35.781549Z"
    },
    "papermill": {
     "duration": 0.506337,
     "end_time": "2020-12-08T12:36:35.782483",
     "exception": false,
     "start_time": "2020-12-08T12:36:35.276146",
     "status": "completed"
    },
    "tags": []
   },
   "outputs": [],
   "source": [
    "test_result = pd.Series(voting_classfication.predict(test), name = \"Survived\").astype(int)\n",
    "results = pd.concat([test_data[\"PassengerId\"], test_result],axis = 1)\n",
    "results.to_csv(\"titanic_submission.csv\", index = False)"
   ]
  },
  {
   "cell_type": "code",
   "execution_count": null,
   "metadata": {},
   "outputs": [],
   "source": []
  },
  {
   "cell_type": "code",
   "execution_count": null,
   "metadata": {},
   "outputs": [],
   "source": []
  }
 ],
 "metadata": {
  "kernelspec": {
   "display_name": "Python 3 (ipykernel)",
   "language": "python",
   "name": "python3"
  },
  "language_info": {
   "codemirror_mode": {
    "name": "ipython",
    "version": 3
   },
   "file_extension": ".py",
   "mimetype": "text/x-python",
   "name": "python",
   "nbconvert_exporter": "python",
   "pygments_lexer": "ipython3",
   "version": "3.11.3"
  },
  "papermill": {
   "duration": 34.812582,
   "end_time": "2020-12-08T12:36:36.007141",
   "environment_variables": {},
   "exception": null,
   "input_path": "__notebook__.ipynb",
   "output_path": "__notebook__.ipynb",
   "parameters": {},
   "start_time": "2020-12-08T12:36:01.194559",
   "version": "2.1.0"
  }
 },
 "nbformat": 4,
 "nbformat_minor": 4
}
